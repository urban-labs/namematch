{
 "cells": [
  {
   "cell_type": "markdown",
   "metadata": {
    "toc": true
   },
   "source": [
    "<h1>Table of Contents<span class=\"tocSkip\"></span></h1>\n",
    "<div class=\"toc\"><ul class=\"toc-item\"><li><span><a href=\"#Overview\" data-toc-modified-id=\"Overview-1\">Overview</a></span></li><li><span><a href=\"#Problem-statement\" data-toc-modified-id=\"Problem-statement-2\">Problem statement</a></span></li><li><span><a href=\"#Setup\" data-toc-modified-id=\"Setup-3\">Setup</a></span></li><li><span><a href=\"#Load-data\" data-toc-modified-id=\"Load-data-4\">Load data</a></span></li><li><span><a href=\"#Does-this-linkage-task-meet-the-requirements-of-Name-Match?\" data-toc-modified-id=\"Does-this-linkage-task-meet-the-requirements-of-Name-Match?-5\">Does this linkage task meet the requirements of Name Match?</a></span></li><li><span><a href=\"#Preparing-the-data-for-linkage\" data-toc-modified-id=\"Preparing-the-data-for-linkage-6\">Preparing the data for linkage</a></span></li><li><span><a href=\"#Running-Name-Match\" data-toc-modified-id=\"Running-Name-Match-7\">Running Name Match</a></span></li><li><span><a href=\"#So-how-many-of-the-potential-candidate-have-run-for-office-before?\" data-toc-modified-id=\"So-how-many-of-the-potential-candidate-have-run-for-office-before?-8\">So how many of the potential candidate have run for office before?</a></span></li><li><span><a href=\"#Understanding-results\" data-toc-modified-id=\"Understanding-results-9\">Understanding results</a></span></li><li><span><a href=\"#Evaluating-the-results-(for-real)\" data-toc-modified-id=\"Evaluating-the-results-(for-real)-10\">Evaluating the results (for real)</a></span></li><li><span><a href=\"#Creating-custom-constraints-(optional/advanced)\" data-toc-modified-id=\"Creating-custom-constraints-(optional/advanced)-11\">Creating custom constraints (optional/advanced)</a></span></li></ul></div>"
   ]
  },
  {
   "cell_type": "markdown",
   "metadata": {},
   "source": [
    "# Overview"
   ]
  },
  {
   "cell_type": "markdown",
   "metadata": {},
   "source": [
    "This tutorial demonstrates how to use Name Match to link two datasets. It walks through step-by-step:\n",
    "* How to determine if the data meets the requirements of Name Match\n",
    "* How to prepare the data for linkage\n",
    "* Running Name Match\n",
    "    * Setting up the config file\n",
    "    * Linking the datasets using the Name Match package\n",
    "* How to investigate the quality of the results\n",
    "* Improving you match with custom constraints (optional, for more advanced users with complex tasks)"
   ]
  },
  {
   "cell_type": "markdown",
   "metadata": {},
   "source": [
    "# Problem statement"
   ]
  },
  {
   "cell_type": "markdown",
   "metadata": {},
   "source": [
    "There is an upcoming election in Brazil, and reporters are starting to speculate about who will be running for various offices. You want to know which of these potential candidates have run for election in the past -- what position(s) they ran for when, who they ran against, etc. \n",
    "\n",
    "To answer these questions, you need to link two datasets: \n",
    "* The list of potential candidates being discussed in the news\n",
    "* The official ballot records from the last three election years"
   ]
  },
  {
   "cell_type": "markdown",
   "metadata": {},
   "source": [
    "# Setup"
   ]
  },
  {
   "cell_type": "markdown",
   "metadata": {},
   "source": [
    "Import packages and configure notebook settings"
   ]
  },
  {
   "cell_type": "code",
   "execution_count": 1,
   "metadata": {},
   "outputs": [],
   "source": [
    "import pandas as pd\n",
    "import numpy as np\n",
    "from namematch.namematcher import NameMatcher\n",
    "\n",
    "from IPython.core.interactiveshell import InteractiveShell\n",
    "InteractiveShell.ast_node_interactivity = \"all\"\n",
    "from IPython.core.display import display, Markdown\n",
    "\n",
    "pd.set_option('display.max_columns', None)\n",
    "pd.set_option('display.max_rows', None)"
   ]
  },
  {
   "cell_type": "markdown",
   "metadata": {},
   "source": [
    "# Load data"
   ]
  },
  {
   "cell_type": "code",
   "execution_count": 2,
   "metadata": {},
   "outputs": [],
   "source": [
    "potential_candidates = pd.read_csv('raw_data/potential_candidates.csv')\n",
    "past_candidates = pd.read_csv('raw_data/past_candidates.csv')"
   ]
  },
  {
   "cell_type": "code",
   "execution_count": 3,
   "metadata": {},
   "outputs": [
    {
     "name": "stdout",
     "output_type": "stream",
     "text": [
      "\n",
      "There are 10588 candidates thinking about running in the upcoming election.\n",
      "\n"
     ]
    },
    {
     "data": {
      "text/html": [
       "<div>\n",
       "<style scoped>\n",
       "    .dataframe tbody tr th:only-of-type {\n",
       "        vertical-align: middle;\n",
       "    }\n",
       "\n",
       "    .dataframe tbody tr th {\n",
       "        vertical-align: top;\n",
       "    }\n",
       "\n",
       "    .dataframe thead th {\n",
       "        text-align: right;\n",
       "    }\n",
       "</style>\n",
       "<table border=\"1\" class=\"dataframe\">\n",
       "  <thead>\n",
       "    <tr style=\"text-align: right;\">\n",
       "      <th></th>\n",
       "      <th>name</th>\n",
       "      <th>dob</th>\n",
       "      <th>sex</th>\n",
       "      <th>race</th>\n",
       "      <th>marital_status</th>\n",
       "    </tr>\n",
       "  </thead>\n",
       "  <tbody>\n",
       "    <tr>\n",
       "      <th>0</th>\n",
       "      <td>ANTONIA EUFRASIA VIEIRA DE SOUSA</td>\n",
       "      <td>1975-01-01</td>\n",
       "      <td>M</td>\n",
       "      <td>BRANCA</td>\n",
       "      <td>CASADO(A)</td>\n",
       "    </tr>\n",
       "    <tr>\n",
       "      <th>1</th>\n",
       "      <td>LAURA SOEIRO RODRIGUES</td>\n",
       "      <td>1964-04-12</td>\n",
       "      <td>F</td>\n",
       "      <td>BRANCA</td>\n",
       "      <td>DIVORCIADO(A)</td>\n",
       "    </tr>\n",
       "    <tr>\n",
       "      <th>2</th>\n",
       "      <td>RODOLFO FRANCA GALVAO SEGUNDO</td>\n",
       "      <td>1982-07-19</td>\n",
       "      <td>M</td>\n",
       "      <td>PARDA</td>\n",
       "      <td>CASADO(A)</td>\n",
       "    </tr>\n",
       "    <tr>\n",
       "      <th>3</th>\n",
       "      <td>ROSIMAR FERREIRA DE ARAUJO</td>\n",
       "      <td>1981-07-23</td>\n",
       "      <td>M</td>\n",
       "      <td>PARDA</td>\n",
       "      <td>SOLTEIRO(A)</td>\n",
       "    </tr>\n",
       "    <tr>\n",
       "      <th>4</th>\n",
       "      <td>BRUNA GOMIDE DA SILVA</td>\n",
       "      <td>1982-07-02</td>\n",
       "      <td>F</td>\n",
       "      <td>PARDA</td>\n",
       "      <td>SOLTEIRO(A)</td>\n",
       "    </tr>\n",
       "  </tbody>\n",
       "</table>\n",
       "</div>"
      ],
      "text/plain": [
       "                               name         dob sex    race marital_status\n",
       "0  ANTONIA EUFRASIA VIEIRA DE SOUSA  1975-01-01   M  BRANCA      CASADO(A)\n",
       "1            LAURA SOEIRO RODRIGUES  1964-04-12   F  BRANCA  DIVORCIADO(A)\n",
       "2     RODOLFO FRANCA GALVAO SEGUNDO  1982-07-19   M   PARDA      CASADO(A)\n",
       "3        ROSIMAR FERREIRA DE ARAUJO  1981-07-23   M   PARDA    SOLTEIRO(A)\n",
       "4             BRUNA GOMIDE DA SILVA  1982-07-02   F   PARDA    SOLTEIRO(A)"
      ]
     },
     "execution_count": 3,
     "metadata": {},
     "output_type": "execute_result"
    }
   ],
   "source": [
    "print(f\"\\nThere are {len(potential_candidates)} candidates thinking about running in the upcoming election.\\n\")\n",
    "\n",
    "potential_candidates.head()"
   ]
  },
  {
   "cell_type": "code",
   "execution_count": 4,
   "metadata": {},
   "outputs": [
    {
     "name": "stdout",
     "output_type": "stream",
     "text": [
      "\n",
      "There are 11731 ballot records from the last three election years  (9722 unique political candidates).\n",
      "\n"
     ]
    },
    {
     "data": {
      "text/html": [
       "<div>\n",
       "<style scoped>\n",
       "    .dataframe tbody tr th:only-of-type {\n",
       "        vertical-align: middle;\n",
       "    }\n",
       "\n",
       "    .dataframe tbody tr th {\n",
       "        vertical-align: top;\n",
       "    }\n",
       "\n",
       "    .dataframe thead th {\n",
       "        text-align: right;\n",
       "    }\n",
       "</style>\n",
       "<table border=\"1\" class=\"dataframe\">\n",
       "  <thead>\n",
       "    <tr style=\"text-align: right;\">\n",
       "      <th></th>\n",
       "      <th>candidacy_id</th>\n",
       "      <th>candidate_id</th>\n",
       "      <th>full_name</th>\n",
       "      <th>dob</th>\n",
       "      <th>gender</th>\n",
       "      <th>race</th>\n",
       "      <th>marital_status</th>\n",
       "      <th>election_date</th>\n",
       "      <th>home_state</th>\n",
       "    </tr>\n",
       "  </thead>\n",
       "  <tbody>\n",
       "    <tr>\n",
       "      <th>0</th>\n",
       "      <td>674185040</td>\n",
       "      <td>40845818449</td>\n",
       "      <td>AZMAZETE BERNARDINO DE SENA PAIVA</td>\n",
       "      <td>21/12/1966</td>\n",
       "      <td>FEMININO</td>\n",
       "      <td>PARDA</td>\n",
       "      <td>DIVORCIADO(A)</td>\n",
       "      <td>05/10/2014</td>\n",
       "      <td>PE</td>\n",
       "    </tr>\n",
       "    <tr>\n",
       "      <th>1</th>\n",
       "      <td>391482866</td>\n",
       "      <td>94465061234</td>\n",
       "      <td>CLAUDIA GOMES ROLIM</td>\n",
       "      <td>15/05/1981</td>\n",
       "      <td>FEMININO</td>\n",
       "      <td>PARDA</td>\n",
       "      <td>SOLTEIRO(A)</td>\n",
       "      <td>05/10/2014</td>\n",
       "      <td>RO</td>\n",
       "    </tr>\n",
       "    <tr>\n",
       "      <th>2</th>\n",
       "      <td>351167154</td>\n",
       "      <td>1356367798</td>\n",
       "      <td>JOANA D ARC MAGESKI DE SOUSA</td>\n",
       "      <td>22/05/1973</td>\n",
       "      <td>FEMININO</td>\n",
       "      <td>BRANCA</td>\n",
       "      <td>CASADO(A)</td>\n",
       "      <td>05/10/2014</td>\n",
       "      <td>ES</td>\n",
       "    </tr>\n",
       "    <tr>\n",
       "      <th>3</th>\n",
       "      <td>617984557</td>\n",
       "      <td>26771321843</td>\n",
       "      <td>MARIA ZILDA SILVA</td>\n",
       "      <td>28/02/1969</td>\n",
       "      <td>FEMININO</td>\n",
       "      <td>BRANCA</td>\n",
       "      <td>DIVORCIADO(A)</td>\n",
       "      <td>05/10/2014</td>\n",
       "      <td>SP</td>\n",
       "    </tr>\n",
       "    <tr>\n",
       "      <th>4</th>\n",
       "      <td>441638425</td>\n",
       "      <td>31813569649</td>\n",
       "      <td>HELENA MARIA DE SOUSA</td>\n",
       "      <td>09/08/1953</td>\n",
       "      <td>FEMININO</td>\n",
       "      <td>PRETA</td>\n",
       "      <td>SOLTEIRO(A)</td>\n",
       "      <td>05/10/2014</td>\n",
       "      <td>MG</td>\n",
       "    </tr>\n",
       "  </tbody>\n",
       "</table>\n",
       "</div>"
      ],
      "text/plain": [
       "   candidacy_id  candidate_id                          full_name         dob  \\\n",
       "0     674185040   40845818449  AZMAZETE BERNARDINO DE SENA PAIVA  21/12/1966   \n",
       "1     391482866   94465061234                CLAUDIA GOMES ROLIM  15/05/1981   \n",
       "2     351167154    1356367798       JOANA D ARC MAGESKI DE SOUSA  22/05/1973   \n",
       "3     617984557   26771321843                  MARIA ZILDA SILVA  28/02/1969   \n",
       "4     441638425   31813569649              HELENA MARIA DE SOUSA  09/08/1953   \n",
       "\n",
       "     gender    race marital_status election_date home_state  \n",
       "0  FEMININO   PARDA  DIVORCIADO(A)    05/10/2014         PE  \n",
       "1  FEMININO   PARDA    SOLTEIRO(A)    05/10/2014         RO  \n",
       "2  FEMININO  BRANCA      CASADO(A)    05/10/2014         ES  \n",
       "3  FEMININO  BRANCA  DIVORCIADO(A)    05/10/2014         SP  \n",
       "4  FEMININO   PRETA    SOLTEIRO(A)    05/10/2014         MG  "
      ]
     },
     "execution_count": 4,
     "metadata": {},
     "output_type": "execute_result"
    }
   ],
   "source": [
    "print(f\"\\nThere are {len(past_candidates)} ballot records from the last three election years \",\n",
    "      f\"({past_candidates.candidate_id.nunique()} unique political candidates).\\n\")\n",
    "\n",
    "past_candidates.head()"
   ]
  },
  {
   "cell_type": "markdown",
   "metadata": {},
   "source": [
    "# Does this linkage task meet the requirements of Name Match?"
   ]
  },
  {
   "cell_type": "markdown",
   "metadata": {},
   "source": [
    "The requirements of Name Match are: \n",
    "1. At least some of the records involved in the link already have a unique person-identifier\n",
    "2. For the records that already have a unique person-identifier, it must be possible for a person to show up multiple times with variation in their identifying information (e.g. typos, nicknames, last-name-changes, etc.)"
   ]
  },
  {
   "cell_type": "markdown",
   "metadata": {},
   "source": [
    "#### Does this task meet requirement #1?"
   ]
  },
  {
   "cell_type": "markdown",
   "metadata": {},
   "source": [
    "<font color='green'><b>Yes!</b></font> The `past_candidates` file, has a `candiate_id` field with non-null values."
   ]
  },
  {
   "cell_type": "code",
   "execution_count": 5,
   "metadata": {},
   "outputs": [
    {
     "data": {
      "text/plain": [
       "0    40845818449\n",
       "1    94465061234\n",
       "2     1356367798\n",
       "3    26771321843\n",
       "4    31813569649\n",
       "Name: candidate_id, dtype: int64"
      ]
     },
     "execution_count": 5,
     "metadata": {},
     "output_type": "execute_result"
    }
   ],
   "source": [
    "past_candidates.candidate_id.head()"
   ]
  },
  {
   "cell_type": "markdown",
   "metadata": {},
   "source": [
    "#### Does this task meet requirment #2? \n",
    "\n",
    "To answer this question, we'll need to do a little exploratory data analysis. The question we're trying to answer is: \"Is it possible for a candidate_id to appear multiple times, with different values in fields like name or dob?\""
   ]
  },
  {
   "cell_type": "code",
   "execution_count": 6,
   "metadata": {},
   "outputs": [
    {
     "data": {
      "text/html": [
       "<div>\n",
       "<style scoped>\n",
       "    .dataframe tbody tr th:only-of-type {\n",
       "        vertical-align: middle;\n",
       "    }\n",
       "\n",
       "    .dataframe tbody tr th {\n",
       "        vertical-align: top;\n",
       "    }\n",
       "\n",
       "    .dataframe thead th {\n",
       "        text-align: right;\n",
       "    }\n",
       "</style>\n",
       "<table border=\"1\" class=\"dataframe\">\n",
       "  <thead>\n",
       "    <tr style=\"text-align: right;\">\n",
       "      <th></th>\n",
       "      <th>full_name</th>\n",
       "      <th>dob</th>\n",
       "    </tr>\n",
       "    <tr>\n",
       "      <th>candidate_id</th>\n",
       "      <th></th>\n",
       "      <th></th>\n",
       "    </tr>\n",
       "  </thead>\n",
       "  <tbody>\n",
       "    <tr>\n",
       "      <th>578274</th>\n",
       "      <td>1</td>\n",
       "      <td>2</td>\n",
       "    </tr>\n",
       "    <tr>\n",
       "      <th>2184052</th>\n",
       "      <td>1</td>\n",
       "      <td>1</td>\n",
       "    </tr>\n",
       "    <tr>\n",
       "      <th>2498669</th>\n",
       "      <td>2</td>\n",
       "      <td>1</td>\n",
       "    </tr>\n",
       "    <tr>\n",
       "      <th>4233514</th>\n",
       "      <td>1</td>\n",
       "      <td>1</td>\n",
       "    </tr>\n",
       "    <tr>\n",
       "      <th>4772733</th>\n",
       "      <td>2</td>\n",
       "      <td>1</td>\n",
       "    </tr>\n",
       "  </tbody>\n",
       "</table>\n",
       "</div>"
      ],
      "text/plain": [
       "              full_name  dob\n",
       "candidate_id                \n",
       "578274                1    2\n",
       "2184052               1    1\n",
       "2498669               2    1\n",
       "4233514               1    1\n",
       "4772733               2    1"
      ]
     },
     "execution_count": 6,
     "metadata": {},
     "output_type": "execute_result"
    }
   ],
   "source": [
    "# calculate the number of unique names and dobs per candidate id\n",
    "\n",
    "by_candidate_id = past_candidates.groupby('candidate_id')[['full_name', 'dob']].nunique()\n",
    "by_candidate_id.head()"
   ]
  },
  {
   "cell_type": "markdown",
   "metadata": {},
   "source": [
    "When we count the number of unique names and dobs per `candidate_id` we see that not all values are 1. Meaning a candidate can appear multiple times with variations in the spelling of their name or recording of their dob information."
   ]
  },
  {
   "cell_type": "markdown",
   "metadata": {},
   "source": [
    "This means that <font color='green'><b>Yes!</b></font> the second requriment of Name Match is met."
   ]
  },
  {
   "cell_type": "markdown",
   "metadata": {},
   "source": [
    "# Preparing the data for linkage"
   ]
  },
  {
   "cell_type": "markdown",
   "metadata": {},
   "source": [
    "### Deciding which fields should be used to inform the match"
   ]
  },
  {
   "cell_type": "markdown",
   "metadata": {},
   "source": [
    "First and last name fields are required for running Name Match. Date-of-birth and age fields are also required, though Name Match can tolerate a small amount of missingness in those fields. Using other fields about a person's identity (e.g. race, gender, address, middle name/initial) is optional, but can be helpful to the algorithim when distinguishing people. Thus, it is a good idea to include them when they are available for the majority of records. \n",
    "\n",
    "A field should only be considered for inclusion if it: 1) contains information that could be useful for identifying the person and 2) is present in all of the datasets being linked*.\n",
    "\n",
    "Let's see what fields are available in the datasets we're linking:"
   ]
  },
  {
   "cell_type": "code",
   "execution_count": 7,
   "metadata": {},
   "outputs": [
    {
     "data": {
      "text/plain": [
       "['name', 'dob', 'sex', 'race', 'marital_status']"
      ]
     },
     "execution_count": 7,
     "metadata": {},
     "output_type": "execute_result"
    },
    {
     "data": {
      "text/plain": [
       "['candidacy_id',\n",
       " 'candidate_id',\n",
       " 'full_name',\n",
       " 'dob',\n",
       " 'gender',\n",
       " 'race',\n",
       " 'marital_status',\n",
       " 'election_date',\n",
       " 'home_state']"
      ]
     },
     "execution_count": 7,
     "metadata": {},
     "output_type": "execute_result"
    }
   ],
   "source": [
    "potential_candidates.columns.tolist()\n",
    "past_candidates.columns.tolist()"
   ]
  },
  {
   "cell_type": "markdown",
   "metadata": {},
   "source": [
    "The fields that should be used to inform the matching algorithm in this task are: \n",
    "* First name, last name, middle name (these fields will have to be generated from the `name` and `full_name` fields in the raw data during pre-processing -- see below)\n",
    "* Date of birth\n",
    "* Age (needs to be created from DOB -- see below)\n",
    "* Gender\n",
    "* Race\n",
    "* Marital status"
   ]
  },
  {
   "cell_type": "markdown",
   "metadata": {},
   "source": [
    "Notice that we don't include information about the candidate's home state, even though that information is related to the candidate's identity -- this is because it is only present in one of our two datasets and would therefore not be helpful when linking.\n",
    "\n",
    "One might think that including information that can change somewhat frequently (e.g. address, marital status, etc.) would be a bad idea. Though this is an impirical question dependent on the specific matching task, we've seen that this information often does help the algorithm disambiguate people. For example, a change in marital status might help signal to the algorithm that it's okay to link two records with the same first name and different last names. "
   ]
  },
  {
   "cell_type": "markdown",
   "metadata": {},
   "source": [
    "\\* It's possible to include fields that are missing from one or more of the datasets being linked, but it is ill-advised in most circumstances."
   ]
  },
  {
   "cell_type": "markdown",
   "metadata": {},
   "source": [
    "### Preprocessing"
   ]
  },
  {
   "cell_type": "markdown",
   "metadata": {},
   "source": [
    "#### Basic data cleaning"
   ]
  },
  {
   "cell_type": "markdown",
   "metadata": {},
   "source": [
    "There might be a few basic data cleaning steps that need to be taken before running Name Match, such as separating fields into smaller components or converting timestamps to dates. All we need to do for this matching task is to separate the full name field into distinct first, middle, and last name fields."
   ]
  },
  {
   "cell_type": "code",
   "execution_count": 8,
   "metadata": {},
   "outputs": [],
   "source": [
    "def assign_name_components(name_components):\n",
    "    \n",
    "    # NOTE, this implementation is just an example and may not be \n",
    "    # correct for these specific datasets\n",
    "    \n",
    "    if len(name_components) == 1:\n",
    "        first_name = np.NaN\n",
    "        middle_name = np.NaN\n",
    "        last_name = name_components[0]\n",
    "    elif len(name_components) == 2:\n",
    "        first_name = name_components[0]\n",
    "        middle_name = np.NaN\n",
    "        last_name = name_components[1]\n",
    "    else:\n",
    "        first_name = name_components[0]\n",
    "        middle_name = name_components[1]\n",
    "        last_name = ' '.join(name_components[2:])\n",
    "        \n",
    "    return first_name, middle_name, last_name\n",
    "    \n",
    "\n",
    "def create_separate_name_columns(df, name_col):\n",
    "    \n",
    "    df = df.copy()\n",
    "    \n",
    "    name_components = df[name_col].str.strip().str.split('\\s+')\n",
    "    name_components = name_components.apply(lambda x: assign_name_components(x))    \n",
    "    \n",
    "    name_components_df = pd.DataFrame(name_components.tolist(), index=df.index, \n",
    "                                      columns=['first_name', 'middle_name', 'last_name'])\n",
    "    \n",
    "    df = pd.concat([df, name_components_df], axis=1)\n",
    "    \n",
    "    return df"
   ]
  },
  {
   "cell_type": "code",
   "execution_count": 9,
   "metadata": {},
   "outputs": [],
   "source": [
    "potential_candidates = create_separate_name_columns(potential_candidates, 'name')\n",
    "past_candidates = create_separate_name_columns(past_candidates, 'full_name')"
   ]
  },
  {
   "cell_type": "code",
   "execution_count": 10,
   "metadata": {},
   "outputs": [
    {
     "data": {
      "text/html": [
       "<div>\n",
       "<style scoped>\n",
       "    .dataframe tbody tr th:only-of-type {\n",
       "        vertical-align: middle;\n",
       "    }\n",
       "\n",
       "    .dataframe tbody tr th {\n",
       "        vertical-align: top;\n",
       "    }\n",
       "\n",
       "    .dataframe thead th {\n",
       "        text-align: right;\n",
       "    }\n",
       "</style>\n",
       "<table border=\"1\" class=\"dataframe\">\n",
       "  <thead>\n",
       "    <tr style=\"text-align: right;\">\n",
       "      <th></th>\n",
       "      <th>name</th>\n",
       "      <th>dob</th>\n",
       "      <th>sex</th>\n",
       "      <th>race</th>\n",
       "      <th>marital_status</th>\n",
       "      <th>first_name</th>\n",
       "      <th>middle_name</th>\n",
       "      <th>last_name</th>\n",
       "    </tr>\n",
       "  </thead>\n",
       "  <tbody>\n",
       "    <tr>\n",
       "      <th>0</th>\n",
       "      <td>ANTONIA EUFRASIA VIEIRA DE SOUSA</td>\n",
       "      <td>1975-01-01</td>\n",
       "      <td>M</td>\n",
       "      <td>BRANCA</td>\n",
       "      <td>CASADO(A)</td>\n",
       "      <td>ANTONIA</td>\n",
       "      <td>EUFRASIA</td>\n",
       "      <td>VIEIRA DE SOUSA</td>\n",
       "    </tr>\n",
       "    <tr>\n",
       "      <th>1</th>\n",
       "      <td>LAURA SOEIRO RODRIGUES</td>\n",
       "      <td>1964-04-12</td>\n",
       "      <td>F</td>\n",
       "      <td>BRANCA</td>\n",
       "      <td>DIVORCIADO(A)</td>\n",
       "      <td>LAURA</td>\n",
       "      <td>SOEIRO</td>\n",
       "      <td>RODRIGUES</td>\n",
       "    </tr>\n",
       "    <tr>\n",
       "      <th>2</th>\n",
       "      <td>RODOLFO FRANCA GALVAO SEGUNDO</td>\n",
       "      <td>1982-07-19</td>\n",
       "      <td>M</td>\n",
       "      <td>PARDA</td>\n",
       "      <td>CASADO(A)</td>\n",
       "      <td>RODOLFO</td>\n",
       "      <td>FRANCA</td>\n",
       "      <td>GALVAO SEGUNDO</td>\n",
       "    </tr>\n",
       "    <tr>\n",
       "      <th>3</th>\n",
       "      <td>ROSIMAR FERREIRA DE ARAUJO</td>\n",
       "      <td>1981-07-23</td>\n",
       "      <td>M</td>\n",
       "      <td>PARDA</td>\n",
       "      <td>SOLTEIRO(A)</td>\n",
       "      <td>ROSIMAR</td>\n",
       "      <td>FERREIRA</td>\n",
       "      <td>DE ARAUJO</td>\n",
       "    </tr>\n",
       "    <tr>\n",
       "      <th>4</th>\n",
       "      <td>BRUNA GOMIDE DA SILVA</td>\n",
       "      <td>1982-07-02</td>\n",
       "      <td>F</td>\n",
       "      <td>PARDA</td>\n",
       "      <td>SOLTEIRO(A)</td>\n",
       "      <td>BRUNA</td>\n",
       "      <td>GOMIDE</td>\n",
       "      <td>DA SILVA</td>\n",
       "    </tr>\n",
       "  </tbody>\n",
       "</table>\n",
       "</div>"
      ],
      "text/plain": [
       "                               name         dob sex    race marital_status  \\\n",
       "0  ANTONIA EUFRASIA VIEIRA DE SOUSA  1975-01-01   M  BRANCA      CASADO(A)   \n",
       "1            LAURA SOEIRO RODRIGUES  1964-04-12   F  BRANCA  DIVORCIADO(A)   \n",
       "2     RODOLFO FRANCA GALVAO SEGUNDO  1982-07-19   M   PARDA      CASADO(A)   \n",
       "3        ROSIMAR FERREIRA DE ARAUJO  1981-07-23   M   PARDA    SOLTEIRO(A)   \n",
       "4             BRUNA GOMIDE DA SILVA  1982-07-02   F   PARDA    SOLTEIRO(A)   \n",
       "\n",
       "  first_name middle_name        last_name  \n",
       "0    ANTONIA    EUFRASIA  VIEIRA DE SOUSA  \n",
       "1      LAURA      SOEIRO        RODRIGUES  \n",
       "2    RODOLFO      FRANCA   GALVAO SEGUNDO  \n",
       "3    ROSIMAR    FERREIRA        DE ARAUJO  \n",
       "4      BRUNA      GOMIDE         DA SILVA  "
      ]
     },
     "execution_count": 10,
     "metadata": {},
     "output_type": "execute_result"
    },
    {
     "data": {
      "text/html": [
       "<div>\n",
       "<style scoped>\n",
       "    .dataframe tbody tr th:only-of-type {\n",
       "        vertical-align: middle;\n",
       "    }\n",
       "\n",
       "    .dataframe tbody tr th {\n",
       "        vertical-align: top;\n",
       "    }\n",
       "\n",
       "    .dataframe thead th {\n",
       "        text-align: right;\n",
       "    }\n",
       "</style>\n",
       "<table border=\"1\" class=\"dataframe\">\n",
       "  <thead>\n",
       "    <tr style=\"text-align: right;\">\n",
       "      <th></th>\n",
       "      <th>candidacy_id</th>\n",
       "      <th>candidate_id</th>\n",
       "      <th>full_name</th>\n",
       "      <th>dob</th>\n",
       "      <th>gender</th>\n",
       "      <th>race</th>\n",
       "      <th>marital_status</th>\n",
       "      <th>election_date</th>\n",
       "      <th>home_state</th>\n",
       "      <th>first_name</th>\n",
       "      <th>middle_name</th>\n",
       "      <th>last_name</th>\n",
       "    </tr>\n",
       "  </thead>\n",
       "  <tbody>\n",
       "    <tr>\n",
       "      <th>0</th>\n",
       "      <td>674185040</td>\n",
       "      <td>40845818449</td>\n",
       "      <td>AZMAZETE BERNARDINO DE SENA PAIVA</td>\n",
       "      <td>21/12/1966</td>\n",
       "      <td>FEMININO</td>\n",
       "      <td>PARDA</td>\n",
       "      <td>DIVORCIADO(A)</td>\n",
       "      <td>05/10/2014</td>\n",
       "      <td>PE</td>\n",
       "      <td>AZMAZETE</td>\n",
       "      <td>BERNARDINO</td>\n",
       "      <td>DE SENA PAIVA</td>\n",
       "    </tr>\n",
       "    <tr>\n",
       "      <th>1</th>\n",
       "      <td>391482866</td>\n",
       "      <td>94465061234</td>\n",
       "      <td>CLAUDIA GOMES ROLIM</td>\n",
       "      <td>15/05/1981</td>\n",
       "      <td>FEMININO</td>\n",
       "      <td>PARDA</td>\n",
       "      <td>SOLTEIRO(A)</td>\n",
       "      <td>05/10/2014</td>\n",
       "      <td>RO</td>\n",
       "      <td>CLAUDIA</td>\n",
       "      <td>GOMES</td>\n",
       "      <td>ROLIM</td>\n",
       "    </tr>\n",
       "    <tr>\n",
       "      <th>2</th>\n",
       "      <td>351167154</td>\n",
       "      <td>1356367798</td>\n",
       "      <td>JOANA D ARC MAGESKI DE SOUSA</td>\n",
       "      <td>22/05/1973</td>\n",
       "      <td>FEMININO</td>\n",
       "      <td>BRANCA</td>\n",
       "      <td>CASADO(A)</td>\n",
       "      <td>05/10/2014</td>\n",
       "      <td>ES</td>\n",
       "      <td>JOANA</td>\n",
       "      <td>D</td>\n",
       "      <td>ARC MAGESKI DE SOUSA</td>\n",
       "    </tr>\n",
       "    <tr>\n",
       "      <th>3</th>\n",
       "      <td>617984557</td>\n",
       "      <td>26771321843</td>\n",
       "      <td>MARIA ZILDA SILVA</td>\n",
       "      <td>28/02/1969</td>\n",
       "      <td>FEMININO</td>\n",
       "      <td>BRANCA</td>\n",
       "      <td>DIVORCIADO(A)</td>\n",
       "      <td>05/10/2014</td>\n",
       "      <td>SP</td>\n",
       "      <td>MARIA</td>\n",
       "      <td>ZILDA</td>\n",
       "      <td>SILVA</td>\n",
       "    </tr>\n",
       "    <tr>\n",
       "      <th>4</th>\n",
       "      <td>441638425</td>\n",
       "      <td>31813569649</td>\n",
       "      <td>HELENA MARIA DE SOUSA</td>\n",
       "      <td>09/08/1953</td>\n",
       "      <td>FEMININO</td>\n",
       "      <td>PRETA</td>\n",
       "      <td>SOLTEIRO(A)</td>\n",
       "      <td>05/10/2014</td>\n",
       "      <td>MG</td>\n",
       "      <td>HELENA</td>\n",
       "      <td>MARIA</td>\n",
       "      <td>DE SOUSA</td>\n",
       "    </tr>\n",
       "  </tbody>\n",
       "</table>\n",
       "</div>"
      ],
      "text/plain": [
       "   candidacy_id  candidate_id                          full_name         dob  \\\n",
       "0     674185040   40845818449  AZMAZETE BERNARDINO DE SENA PAIVA  21/12/1966   \n",
       "1     391482866   94465061234                CLAUDIA GOMES ROLIM  15/05/1981   \n",
       "2     351167154    1356367798       JOANA D ARC MAGESKI DE SOUSA  22/05/1973   \n",
       "3     617984557   26771321843                  MARIA ZILDA SILVA  28/02/1969   \n",
       "4     441638425   31813569649              HELENA MARIA DE SOUSA  09/08/1953   \n",
       "\n",
       "     gender    race marital_status election_date home_state first_name  \\\n",
       "0  FEMININO   PARDA  DIVORCIADO(A)    05/10/2014         PE   AZMAZETE   \n",
       "1  FEMININO   PARDA    SOLTEIRO(A)    05/10/2014         RO    CLAUDIA   \n",
       "2  FEMININO  BRANCA      CASADO(A)    05/10/2014         ES      JOANA   \n",
       "3  FEMININO  BRANCA  DIVORCIADO(A)    05/10/2014         SP      MARIA   \n",
       "4  FEMININO   PRETA    SOLTEIRO(A)    05/10/2014         MG     HELENA   \n",
       "\n",
       "  middle_name             last_name  \n",
       "0  BERNARDINO         DE SENA PAIVA  \n",
       "1       GOMES                 ROLIM  \n",
       "2           D  ARC MAGESKI DE SOUSA  \n",
       "3       ZILDA                 SILVA  \n",
       "4       MARIA              DE SOUSA  "
      ]
     },
     "execution_count": 10,
     "metadata": {},
     "output_type": "execute_result"
    }
   ],
   "source": [
    "potential_candidates.head()\n",
    "past_candidates.head()"
   ]
  },
  {
   "cell_type": "markdown",
   "metadata": {},
   "source": [
    "#### Standardizing the two data files"
   ]
  },
  {
   "cell_type": "markdown",
   "metadata": {},
   "source": [
    "It's important that the files that are being linked together represent certain information in the same way. \n",
    "\n",
    "For example, one of our datasets encodes gender as M vs F, while the other encodes it as MASCULINO vs. FEMININO. If left as is, the algorithm will compare F and FEMININO and determine that the genders do not match. Since we want this to be seen as a matching gender, we need to standardize the way gender information is represented. \n",
    "\n",
    "Here we'll do that by shortening `MASCULINO` and `FEMININO` to M and F, respectively, in the past_candidates dataset."
   ]
  },
  {
   "cell_type": "code",
   "execution_count": 11,
   "metadata": {},
   "outputs": [],
   "source": [
    "past_candidates['gender'] = past_candidates.gender.map({'MASCULINO':'M', 'FEMININO':'F'})"
   ]
  },
  {
   "cell_type": "markdown",
   "metadata": {},
   "source": [
    "The only other type of standardization needed for this matching task relates to the date fields -- specifically `dob`. One dataset encodes dates in the yyyy-mm-dd format, while the other encodes dates as dd/mm/yyyy. We'll fix this by encoding all dates in the yyyy-mm-dd format."
   ]
  },
  {
   "cell_type": "code",
   "execution_count": 12,
   "metadata": {},
   "outputs": [],
   "source": [
    "past_candidates['dob'] = pd.to_datetime(past_candidates.dob, format='%d/%m/%Y')\n",
    "past_candidates['election_date'] = pd.to_datetime(past_candidates.election_date, format='%d/%m/%Y')"
   ]
  },
  {
   "cell_type": "markdown",
   "metadata": {},
   "source": [
    "Note that standardizing column names (e.g. gender vs sex) is not necessary during pre-processing. There will be a way to refer to each variable by its original name when configuring the match -- see below."
   ]
  },
  {
   "cell_type": "markdown",
   "metadata": {},
   "source": [
    "#### Creating a single-reference age field"
   ]
  },
  {
   "cell_type": "markdown",
   "metadata": {},
   "source": [
    "Age can be a useful field during record matching, but only if it is calculated as of a single reference date, such as \"age as of January 1st, 2025\" below. This is necessary because it is likely that the records associated wth a given person were not all generated on the same day. For example, if a person is 18 in a record from 2010 and 26 in a record from 2016, we don't want the algorithm to see 18 and 26 and assume it's not the same person. \n",
    "\n",
    "This may mean that you need to adjust any pre-existing `age` fields in your input dataset. For this dataset, however, there was not an existing age field -- so we simply calculate it from DOB. "
   ]
  },
  {
   "cell_type": "code",
   "execution_count": 13,
   "metadata": {},
   "outputs": [],
   "source": [
    "past_candidates['age_in_2025'] = (pd.to_datetime('2025-01-01') - past_candidates.dob).astype('<m8[Y]').astype(int)\n",
    "potential_candidates['age_in_2025'] = (pd.to_datetime('2025-01-01') - pd.to_datetime(potential_candidates.dob)).astype('<m8[Y]').astype(int)"
   ]
  },
  {
   "cell_type": "markdown",
   "metadata": {},
   "source": [
    "#### Locating or creating a record id"
   ]
  },
  {
   "cell_type": "markdown",
   "metadata": {},
   "source": [
    "Name Match must have a way of uniquely identifying each record in a given dataset. Therefore, each input dataset must have a column with a different value for every record. The `past_candidates` dataset already meets this requirement because of the `candidacy_id` field."
   ]
  },
  {
   "cell_type": "code",
   "execution_count": 14,
   "metadata": {},
   "outputs": [
    {
     "data": {
      "text/plain": [
       "True"
      ]
     },
     "execution_count": 14,
     "metadata": {},
     "output_type": "execute_result"
    }
   ],
   "source": [
    "len(past_candidates) == past_candidates.candidacy_id.nunique()"
   ]
  },
  {
   "cell_type": "markdown",
   "metadata": {},
   "source": [
    "However, the `potential_candidates` dataset does not come with a unique record id -- so one must be created during pre-processing."
   ]
  },
  {
   "cell_type": "code",
   "execution_count": 15,
   "metadata": {},
   "outputs": [
    {
     "data": {
      "text/plain": [
       "0    0\n",
       "1    1\n",
       "2    2\n",
       "3    3\n",
       "4    4\n",
       "Name: record_id, dtype: int64"
      ]
     },
     "execution_count": 15,
     "metadata": {},
     "output_type": "execute_result"
    }
   ],
   "source": [
    "potential_candidates['record_id'] = np.arange(len(potential_candidates))\n",
    "potential_candidates['record_id'].head()"
   ]
  },
  {
   "cell_type": "markdown",
   "metadata": {},
   "source": [
    " "
   ]
  },
  {
   "cell_type": "markdown",
   "metadata": {},
   "source": [
    "#### Outputting the prepared datasets"
   ]
  },
  {
   "cell_type": "markdown",
   "metadata": {},
   "source": [
    "After all of these preparation steps, our two datasets are ready for Name match! We'll write them out as CSVs."
   ]
  },
  {
   "cell_type": "code",
   "execution_count": 16,
   "metadata": {},
   "outputs": [
    {
     "data": {
      "text/html": [
       "<div>\n",
       "<style scoped>\n",
       "    .dataframe tbody tr th:only-of-type {\n",
       "        vertical-align: middle;\n",
       "    }\n",
       "\n",
       "    .dataframe tbody tr th {\n",
       "        vertical-align: top;\n",
       "    }\n",
       "\n",
       "    .dataframe thead th {\n",
       "        text-align: right;\n",
       "    }\n",
       "</style>\n",
       "<table border=\"1\" class=\"dataframe\">\n",
       "  <thead>\n",
       "    <tr style=\"text-align: right;\">\n",
       "      <th></th>\n",
       "      <th>name</th>\n",
       "      <th>dob</th>\n",
       "      <th>sex</th>\n",
       "      <th>race</th>\n",
       "      <th>marital_status</th>\n",
       "      <th>first_name</th>\n",
       "      <th>middle_name</th>\n",
       "      <th>last_name</th>\n",
       "      <th>age_in_2025</th>\n",
       "      <th>record_id</th>\n",
       "    </tr>\n",
       "  </thead>\n",
       "  <tbody>\n",
       "    <tr>\n",
       "      <th>0</th>\n",
       "      <td>ANTONIA EUFRASIA VIEIRA DE SOUSA</td>\n",
       "      <td>1975-01-01</td>\n",
       "      <td>M</td>\n",
       "      <td>BRANCA</td>\n",
       "      <td>CASADO(A)</td>\n",
       "      <td>ANTONIA</td>\n",
       "      <td>EUFRASIA</td>\n",
       "      <td>VIEIRA DE SOUSA</td>\n",
       "      <td>50</td>\n",
       "      <td>0</td>\n",
       "    </tr>\n",
       "    <tr>\n",
       "      <th>1</th>\n",
       "      <td>LAURA SOEIRO RODRIGUES</td>\n",
       "      <td>1964-04-12</td>\n",
       "      <td>F</td>\n",
       "      <td>BRANCA</td>\n",
       "      <td>DIVORCIADO(A)</td>\n",
       "      <td>LAURA</td>\n",
       "      <td>SOEIRO</td>\n",
       "      <td>RODRIGUES</td>\n",
       "      <td>60</td>\n",
       "      <td>1</td>\n",
       "    </tr>\n",
       "    <tr>\n",
       "      <th>2</th>\n",
       "      <td>RODOLFO FRANCA GALVAO SEGUNDO</td>\n",
       "      <td>1982-07-19</td>\n",
       "      <td>M</td>\n",
       "      <td>PARDA</td>\n",
       "      <td>CASADO(A)</td>\n",
       "      <td>RODOLFO</td>\n",
       "      <td>FRANCA</td>\n",
       "      <td>GALVAO SEGUNDO</td>\n",
       "      <td>42</td>\n",
       "      <td>2</td>\n",
       "    </tr>\n",
       "    <tr>\n",
       "      <th>3</th>\n",
       "      <td>ROSIMAR FERREIRA DE ARAUJO</td>\n",
       "      <td>1981-07-23</td>\n",
       "      <td>M</td>\n",
       "      <td>PARDA</td>\n",
       "      <td>SOLTEIRO(A)</td>\n",
       "      <td>ROSIMAR</td>\n",
       "      <td>FERREIRA</td>\n",
       "      <td>DE ARAUJO</td>\n",
       "      <td>43</td>\n",
       "      <td>3</td>\n",
       "    </tr>\n",
       "    <tr>\n",
       "      <th>4</th>\n",
       "      <td>BRUNA GOMIDE DA SILVA</td>\n",
       "      <td>1982-07-02</td>\n",
       "      <td>F</td>\n",
       "      <td>PARDA</td>\n",
       "      <td>SOLTEIRO(A)</td>\n",
       "      <td>BRUNA</td>\n",
       "      <td>GOMIDE</td>\n",
       "      <td>DA SILVA</td>\n",
       "      <td>42</td>\n",
       "      <td>4</td>\n",
       "    </tr>\n",
       "  </tbody>\n",
       "</table>\n",
       "</div>"
      ],
      "text/plain": [
       "                               name         dob sex    race marital_status  \\\n",
       "0  ANTONIA EUFRASIA VIEIRA DE SOUSA  1975-01-01   M  BRANCA      CASADO(A)   \n",
       "1            LAURA SOEIRO RODRIGUES  1964-04-12   F  BRANCA  DIVORCIADO(A)   \n",
       "2     RODOLFO FRANCA GALVAO SEGUNDO  1982-07-19   M   PARDA      CASADO(A)   \n",
       "3        ROSIMAR FERREIRA DE ARAUJO  1981-07-23   M   PARDA    SOLTEIRO(A)   \n",
       "4             BRUNA GOMIDE DA SILVA  1982-07-02   F   PARDA    SOLTEIRO(A)   \n",
       "\n",
       "  first_name middle_name        last_name  age_in_2025  record_id  \n",
       "0    ANTONIA    EUFRASIA  VIEIRA DE SOUSA           50          0  \n",
       "1      LAURA      SOEIRO        RODRIGUES           60          1  \n",
       "2    RODOLFO      FRANCA   GALVAO SEGUNDO           42          2  \n",
       "3    ROSIMAR    FERREIRA        DE ARAUJO           43          3  \n",
       "4      BRUNA      GOMIDE         DA SILVA           42          4  "
      ]
     },
     "execution_count": 16,
     "metadata": {},
     "output_type": "execute_result"
    },
    {
     "data": {
      "text/html": [
       "<div>\n",
       "<style scoped>\n",
       "    .dataframe tbody tr th:only-of-type {\n",
       "        vertical-align: middle;\n",
       "    }\n",
       "\n",
       "    .dataframe tbody tr th {\n",
       "        vertical-align: top;\n",
       "    }\n",
       "\n",
       "    .dataframe thead th {\n",
       "        text-align: right;\n",
       "    }\n",
       "</style>\n",
       "<table border=\"1\" class=\"dataframe\">\n",
       "  <thead>\n",
       "    <tr style=\"text-align: right;\">\n",
       "      <th></th>\n",
       "      <th>candidacy_id</th>\n",
       "      <th>candidate_id</th>\n",
       "      <th>full_name</th>\n",
       "      <th>dob</th>\n",
       "      <th>gender</th>\n",
       "      <th>race</th>\n",
       "      <th>marital_status</th>\n",
       "      <th>election_date</th>\n",
       "      <th>home_state</th>\n",
       "      <th>first_name</th>\n",
       "      <th>middle_name</th>\n",
       "      <th>last_name</th>\n",
       "      <th>age_in_2025</th>\n",
       "    </tr>\n",
       "  </thead>\n",
       "  <tbody>\n",
       "    <tr>\n",
       "      <th>0</th>\n",
       "      <td>674185040</td>\n",
       "      <td>40845818449</td>\n",
       "      <td>AZMAZETE BERNARDINO DE SENA PAIVA</td>\n",
       "      <td>1966-12-21</td>\n",
       "      <td>F</td>\n",
       "      <td>PARDA</td>\n",
       "      <td>DIVORCIADO(A)</td>\n",
       "      <td>2014-10-05</td>\n",
       "      <td>PE</td>\n",
       "      <td>AZMAZETE</td>\n",
       "      <td>BERNARDINO</td>\n",
       "      <td>DE SENA PAIVA</td>\n",
       "      <td>58</td>\n",
       "    </tr>\n",
       "    <tr>\n",
       "      <th>1</th>\n",
       "      <td>391482866</td>\n",
       "      <td>94465061234</td>\n",
       "      <td>CLAUDIA GOMES ROLIM</td>\n",
       "      <td>1981-05-15</td>\n",
       "      <td>F</td>\n",
       "      <td>PARDA</td>\n",
       "      <td>SOLTEIRO(A)</td>\n",
       "      <td>2014-10-05</td>\n",
       "      <td>RO</td>\n",
       "      <td>CLAUDIA</td>\n",
       "      <td>GOMES</td>\n",
       "      <td>ROLIM</td>\n",
       "      <td>43</td>\n",
       "    </tr>\n",
       "    <tr>\n",
       "      <th>2</th>\n",
       "      <td>351167154</td>\n",
       "      <td>1356367798</td>\n",
       "      <td>JOANA D ARC MAGESKI DE SOUSA</td>\n",
       "      <td>1973-05-22</td>\n",
       "      <td>F</td>\n",
       "      <td>BRANCA</td>\n",
       "      <td>CASADO(A)</td>\n",
       "      <td>2014-10-05</td>\n",
       "      <td>ES</td>\n",
       "      <td>JOANA</td>\n",
       "      <td>D</td>\n",
       "      <td>ARC MAGESKI DE SOUSA</td>\n",
       "      <td>51</td>\n",
       "    </tr>\n",
       "    <tr>\n",
       "      <th>3</th>\n",
       "      <td>617984557</td>\n",
       "      <td>26771321843</td>\n",
       "      <td>MARIA ZILDA SILVA</td>\n",
       "      <td>1969-02-28</td>\n",
       "      <td>F</td>\n",
       "      <td>BRANCA</td>\n",
       "      <td>DIVORCIADO(A)</td>\n",
       "      <td>2014-10-05</td>\n",
       "      <td>SP</td>\n",
       "      <td>MARIA</td>\n",
       "      <td>ZILDA</td>\n",
       "      <td>SILVA</td>\n",
       "      <td>55</td>\n",
       "    </tr>\n",
       "    <tr>\n",
       "      <th>4</th>\n",
       "      <td>441638425</td>\n",
       "      <td>31813569649</td>\n",
       "      <td>HELENA MARIA DE SOUSA</td>\n",
       "      <td>1953-08-09</td>\n",
       "      <td>F</td>\n",
       "      <td>PRETA</td>\n",
       "      <td>SOLTEIRO(A)</td>\n",
       "      <td>2014-10-05</td>\n",
       "      <td>MG</td>\n",
       "      <td>HELENA</td>\n",
       "      <td>MARIA</td>\n",
       "      <td>DE SOUSA</td>\n",
       "      <td>71</td>\n",
       "    </tr>\n",
       "  </tbody>\n",
       "</table>\n",
       "</div>"
      ],
      "text/plain": [
       "   candidacy_id  candidate_id                          full_name        dob  \\\n",
       "0     674185040   40845818449  AZMAZETE BERNARDINO DE SENA PAIVA 1966-12-21   \n",
       "1     391482866   94465061234                CLAUDIA GOMES ROLIM 1981-05-15   \n",
       "2     351167154    1356367798       JOANA D ARC MAGESKI DE SOUSA 1973-05-22   \n",
       "3     617984557   26771321843                  MARIA ZILDA SILVA 1969-02-28   \n",
       "4     441638425   31813569649              HELENA MARIA DE SOUSA 1953-08-09   \n",
       "\n",
       "  gender    race marital_status election_date home_state first_name  \\\n",
       "0      F   PARDA  DIVORCIADO(A)    2014-10-05         PE   AZMAZETE   \n",
       "1      F   PARDA    SOLTEIRO(A)    2014-10-05         RO    CLAUDIA   \n",
       "2      F  BRANCA      CASADO(A)    2014-10-05         ES      JOANA   \n",
       "3      F  BRANCA  DIVORCIADO(A)    2014-10-05         SP      MARIA   \n",
       "4      F   PRETA    SOLTEIRO(A)    2014-10-05         MG     HELENA   \n",
       "\n",
       "  middle_name             last_name  age_in_2025  \n",
       "0  BERNARDINO         DE SENA PAIVA           58  \n",
       "1       GOMES                 ROLIM           43  \n",
       "2           D  ARC MAGESKI DE SOUSA           51  \n",
       "3       ZILDA                 SILVA           55  \n",
       "4       MARIA              DE SOUSA           71  "
      ]
     },
     "execution_count": 16,
     "metadata": {},
     "output_type": "execute_result"
    }
   ],
   "source": [
    "potential_candidates.head()\n",
    "past_candidates.head()"
   ]
  },
  {
   "cell_type": "code",
   "execution_count": 17,
   "metadata": {},
   "outputs": [],
   "source": [
    "# past_candidates.to_csv('preprocessed_data/past_candidates.csv', index=False)\n",
    "# potential_candidates.to_csv('preprocessed_data/potential_candidates.csv', index=False)"
   ]
  },
  {
   "cell_type": "markdown",
   "metadata": {},
   "source": [
    "# Running Name Match"
   ]
  },
  {
   "cell_type": "markdown",
   "metadata": {},
   "source": [
    "### Create the config"
   ]
  },
  {
   "cell_type": "markdown",
   "metadata": {},
   "source": [
    "There are certain decisions the user makes about what files to link, which variables to use, and what settings the algorithm should take -- the config is where you record these decisions! \n",
    "\n",
    "The Name Match package can accept the config in two formats: a python dictionary, as we'll show below, or a YAML file. A YAML file is simply a way of writing key-value pairs in a flat file. Thus, it operates much like a python dictionary. Neither option is better or worse than the other, so do what makes sense to you based on what you're most familiar with and how you're calling Name Match. "
   ]
  },
  {
   "cell_type": "markdown",
   "metadata": {},
   "source": [
    "There are three main \"sections\" of the config: the data files, the variables, and general parameters/settings. \n",
    "\n",
    "The **data files** section is comprised of a single `data_files` dictionary of dictionaires. The keys are the reference names of each dataset being linked, and the values are dictionaires with information like `filepath` and `record_id_col` for each dataset.\n",
    "\n",
    "The **variables** section is comprised of a single `variables` list of dictionaries. Each element in the list is a dictionary with information about one of the variables that should be used in the match. Each variable gets a reference `name` (e.g. gender), a `compare_type` (e.g. String, Date, Category, etc.), and a set of `<dataset>_col` definitions. The `<dataset>_col` field is where you specify the name of the field in the underlying dataset (e.g. `sex` for one dataset and `gender` for the other). For each variable, there should be one `<dataset>_col` field per input dataset defined in the `data_files` section. Each variable dictionary can take optional fields like `drop`, `check`, and `set_missing`. See the Documentation for more information. \n",
    "\n",
    "The **parameters** section of the config is simply a series of key/value pairs where you tell the algorithm anything special about how you want it to run. All parameters have default values (see Documentation) that can be left alone for all simple matches. These defaults make this section of the config optional. "
   ]
  },
  {
   "cell_type": "code",
   "execution_count": 18,
   "metadata": {},
   "outputs": [],
   "source": [
    "config_dict = {\n",
    "    \n",
    "    # define the data files that will be linked and/or deduplicated\n",
    "    # -------------------------------------------------------------\n",
    "    \n",
    "    'data_files': {\n",
    "        'potential_candidates': {\n",
    "            'filepath' : 'preprocessed_data/potential_candidates.csv',\n",
    "            'record_id_col' : 'record_id'\n",
    "        },\n",
    "        'past_candidates': {\n",
    "            'filepath' : 'preprocessed_data/past_candidates.csv',\n",
    "            'record_id_col' : 'candidacy_id'\n",
    "        }        \n",
    "    },\n",
    "    \n",
    "    # define the variables that should be used in the matching process\n",
    "    # ----------------------------------------------------------------\n",
    "    \n",
    "    'variables': [\n",
    "        {\n",
    "            'name' : 'first_name',\n",
    "            'compare_type' : 'String',\n",
    "            'potential_candidates_col' : 'first_name',\n",
    "            'past_candidates_col' : 'first_name',\n",
    "            'drop': [''] # don't include records with missing first-name in the match\n",
    "        },\n",
    "        {\n",
    "            'name' : 'last_name',\n",
    "            'compare_type' : 'String',\n",
    "            'potential_candidates_col' : 'last_name',\n",
    "            'past_candidates_col' : 'last_name',\n",
    "            'drop': [''] # don't include records with missing last-name in the match\n",
    "        },\n",
    "        {\n",
    "            'name' : 'dob',\n",
    "            'compare_type' : 'Date',\n",
    "            'potential_candidates_col' : 'dob',\n",
    "            'past_candidates_col' : 'dob',\n",
    "            'check' : 'Date - %Y-%m-%d' # optional, check to make sure that all input values\n",
    "                                        # are in this format; otherwise, set to missing\n",
    "        },\n",
    "        {\n",
    "            'name' : 'age',\n",
    "            'compare_type' : 'Number',\n",
    "            'potential_candidates_col' : 'age_in_2025',\n",
    "            'past_candidates_col' : 'age_in_2025',\n",
    "        },\n",
    "        {\n",
    "            'name' : 'middle_name',\n",
    "            'compare_type' : 'String',\n",
    "            'potential_candidates_col' : 'middle_name',\n",
    "            'past_candidates_col' : 'middle_name'            \n",
    "        },\n",
    "        {\n",
    "            'name' : 'gender',\n",
    "            'compare_type' : 'Category',\n",
    "            'potential_candidates_col' : 'sex', # notice we refer to the original column name, which differs by dataset\n",
    "            'past_candidates_col' : 'gender',\n",
    "            'check' : 'M,F' # optional, check that input values are either M or F; otherwise, set to missing\n",
    "        },\n",
    "        {\n",
    "            'name' : 'race',\n",
    "            'compare_type' : 'Category',\n",
    "            'potential_candidates_col' : 'race',\n",
    "            'past_candidates_col' : 'race'\n",
    "        },\n",
    "        {\n",
    "            'name' : 'marital_status',\n",
    "            'compare_type' : 'Category',\n",
    "            'potential_candidates_col' : 'marital_status',\n",
    "            'past_candidates_col' : 'marital_status'\n",
    "        },\n",
    "        {\n",
    "            # exactly one of the variables defined in the config should have compare_type of \"UniqueID\";\n",
    "            # this is the pre-existing unique person-identifier that we identified when checking if our \n",
    "            # datasets met the requirements of Name Match\n",
    "            'name' : 'official_candidate_id',\n",
    "            'compare_type' : 'UniqueID', \n",
    "            'potential_candidates_col' : '', # the potential candidates dataset does not have this \n",
    "                                             # column -- therefore the col value is empty ('')\n",
    "            'past_candidates_col' : 'candidate_id'\n",
    "        }\n",
    "    ],\n",
    "    \n",
    "    # set parameter values (optional -- defaults work for most basic matching tasks)\n",
    "    # ------------------------------------------------------------------------------\n",
    "    \n",
    "    'num_workers': 8,\n",
    "    'pct_train': .9,\n",
    "    'allow_clusters_w_multiple_unique_ids': False,\n",
    "    'missingness_model': None,\n",
    "    'negate_exact_match_variables': ['middle_name']\n",
    "    \n",
    "}"
   ]
  },
  {
   "cell_type": "markdown",
   "metadata": {},
   "source": [
    "### Link the data"
   ]
  },
  {
   "cell_type": "markdown",
   "metadata": {},
   "source": [
    "To run Name Match,\n",
    "1. Instantiate a NameMatcher object by passing in the config dictionary created above\n",
    "2. Call the run() command on that object\n",
    "\n",
    "Depending on the size of your input datasets, the run command may take several hours* to complete. For this tutorial, it should only take a few minutes."
   ]
  },
  {
   "cell_type": "code",
   "execution_count": 19,
   "metadata": {},
   "outputs": [
    {
     "name": "stderr",
     "output_type": "stream",
     "text": [
      "28-Jan-22 14:52:14 INFO     The log file will be located at /projects/2017-007-namematch/melissa_work/dev_master_nm/name_match/examples/tutorial_output/details/name_match.log.\n"
     ]
    }
   ],
   "source": [
    "nm = NameMatcher(\n",
    "    config=config_dict, \n",
    "    output_dir='tutorial_output/'\n",
    ")"
   ]
  },
  {
   "cell_type": "code",
   "execution_count": 20,
   "metadata": {},
   "outputs": [
    {
     "name": "stdout",
     "output_type": "stream",
     "text": [
      "\u001b[32m2022-01-28 14:52:15\u001b[0m - \u001b[1;30mINFO    \u001b[0m Running task: ProcessInputData\n",
      "\u001b[32m2022-01-28 14:52:15\u001b[0m - \u001b[1;30mINFO    \u001b[0m This is not an incremental run.\n",
      "\u001b[32m2022-01-28 14:52:15\u001b[0m - \u001b[1;30mINFO    \u001b[0m Reading potential_candidates data.\n",
      "\u001b[32m2022-01-28 14:52:15\u001b[0m - \u001b[1;30mINFO    \u001b[0m Done writing potential_candidates data.\n",
      "\u001b[32m2022-01-28 14:52:15\u001b[0m - \u001b[1;30mINFO    \u001b[0m Reading past_candidates data.\n",
      "\u001b[32m2022-01-28 14:52:16\u001b[0m - \u001b[1;30mINFO    \u001b[0m Done writing past_candidates data.\n",
      "\u001b[32m2022-01-28 14:52:16\u001b[0m - \u001b[1;30mINFO    \u001b[0m Number of input records: 22319\n",
      "\u001b[32m2022-01-28 14:52:16\u001b[0m - \u001b[1;30mINFO    \u001b[0m Number of valid input records: 22317\n",
      "\u001b[32m2022-01-28 14:52:16\u001b[0m - \u001b[1;30mINFO    \u001b[0m Writing stats for task: ProcessInputData\n",
      "\u001b[32m2022-01-28 14:52:16\u001b[0m - \u001b[1;30mINFO    \u001b[0m Running task: GenerateMustLinks\n",
      "\u001b[32m2022-01-28 14:52:16\u001b[0m - \u001b[1;30mINFO    \u001b[0m Generating \"must-link\" record pairs.\n",
      "\u001b[32m2022-01-28 14:52:16\u001b[0m - \u001b[1;30mINFO    \u001b[0m Writing stats for task: GenerateMustLinks\n",
      "\u001b[32m2022-01-28 14:52:17\u001b[0m - \u001b[1;30mINFO    \u001b[0m Running task: Block\n",
      "\u001b[32m2022-01-28 14:52:17\u001b[0m - \u001b[1;30mINFO    \u001b[0m Preparing blockstring data.\n",
      "\u001b[32m2022-01-28 14:52:21\u001b[0m - \u001b[1;30mINFO    \u001b[0m Creating index shingles matrix.\n"
     ]
    },
    {
     "name": "stderr",
     "output_type": "stream",
     "text": [
      "\n",
      "0%   10   20   30   40   50   60   70   80   90   100%\n",
      "|----|----|----|----|----|----|----|----|----|----|\n",
      "***************************************************\n"
     ]
    },
    {
     "name": "stdout",
     "output_type": "stream",
     "text": [
      "\u001b[32m2022-01-28 14:52:39\u001b[0m - \u001b[1;30mINFO    \u001b[0m Creating query shingles matrix.\n",
      "\u001b[32m2022-01-28 14:52:40\u001b[0m - \u001b[1;30mINFO    \u001b[0m Getting identical candidate pairs.\n",
      "\u001b[32m2022-01-28 14:52:40\u001b[0m - \u001b[1;30mINFO    \u001b[0m Querying to get candidate pairs.\n",
      "\u001b[32m2022-01-28 14:52:40\u001b[0m - \u001b[1;30mINFO    \u001b[0m Indices to query: 1\n",
      "\u001b[32m2022-01-28 14:52:57\u001b[0m - \u001b[1;30mINFO    \u001b[0m Computing cosine similarities.\n",
      "\u001b[32m2022-01-28 14:52:57\u001b[0m - \u001b[1;30mINFO    \u001b[0m Number of uncovered pairs: 84\n",
      "\u001b[32m2022-01-28 14:52:57\u001b[0m - \u001b[1;30mINFO    \u001b[0m Number of true pairs: 1906\n",
      "\u001b[32m2022-01-28 14:52:57\u001b[0m - \u001b[1;30mINFO    \u001b[0m Calculating pair completeness.\n",
      "\u001b[32m2022-01-28 14:52:57\u001b[0m - \u001b[1;30mINFO    \u001b[0m Pair completeness, including equal blockstrings (cosine level): 0.974\n",
      "\u001b[32m2022-01-28 14:52:57\u001b[0m - \u001b[1;30mINFO    \u001b[0m Pair completeness, including equal blockstrings (cosine + editdistance level): 0.956\n",
      "\u001b[32m2022-01-28 14:52:57\u001b[0m - \u001b[1;30mINFO    \u001b[0m Pair completeness, non-equal blockstrings (cosine level): 0.93\n",
      "\u001b[32m2022-01-28 14:52:57\u001b[0m - \u001b[1;30mINFO    \u001b[0m Pair completeness, non-equal blockstrings (cosine + editdistance level): 0.927\n",
      "\u001b[32m2022-01-28 14:52:57\u001b[0m - \u001b[1;30mINFO    \u001b[0m Finished evaluating blocking.\n",
      "\u001b[32m2022-01-28 14:52:57\u001b[0m - \u001b[1;30mINFO    \u001b[0m Blocked covered pairs: 32090\n",
      "\u001b[32m2022-01-28 14:52:57\u001b[0m - \u001b[1;30mINFO    \u001b[0m Uncovered pairs: 84\n",
      "\u001b[32m2022-01-28 14:52:57\u001b[0m - \u001b[1;30mINFO    \u001b[0m Writing stats for task: Block\n",
      "\u001b[32m2022-01-28 14:52:57\u001b[0m - \u001b[1;30mINFO    \u001b[0m Running task: GenerateDataRows\n",
      "\u001b[32m2022-01-28 14:52:57\u001b[0m - \u001b[1;30mINFO    \u001b[0m Building name probability object.\n",
      "\u001b[32m2022-01-28 14:52:58\u001b[0m - \u001b[1;30mINFO    \u001b[0m Generating data rows...\n",
      "\u001b[32m2022-01-28 14:53:09\u001b[0m - \u001b[1;30mINFO    \u001b[0m Writing stats for task: GenerateDataRows\n",
      "\u001b[32m2022-01-28 14:53:09\u001b[0m - \u001b[1;30mINFO    \u001b[0m Running task: FitModel\n",
      "\u001b[32m2022-01-28 14:53:09\u001b[0m - \u001b[1;30mINFO    \u001b[0m Number of data rows: 31564\n",
      "\u001b[32m2022-01-28 14:53:10\u001b[0m - \u001b[1;30mINFO    \u001b[0m Training basic model (match).\n",
      "\u001b[32m2022-01-28 14:53:16\u001b[0m - \u001b[1;30mINFO    \u001b[0m ----- EVALUATING BASIC MATCH MODEL -----\n",
      "\u001b[32m2022-01-28 14:53:16\u001b[0m - \u001b[1;30mINFO    \u001b[0m Number of labeled test rows evaluated: 927\n",
      "\u001b[32m2022-01-28 14:53:16\u001b[0m - \u001b[1;30mINFO    \u001b[0m Finding optimal threshold.\n",
      "\u001b[32m2022-01-28 14:53:16\u001b[0m - \u001b[1;30mINFO    \u001b[0m Threshold: 0.66\n",
      "\u001b[32m2022-01-28 14:53:16\u001b[0m - \u001b[1;30mINFO    \u001b[0m Base rate (all pairs): 0.2901833872707659\n",
      "\u001b[32m2022-01-28 14:53:16\u001b[0m - \u001b[1;30mINFO    \u001b[0m Precision (all pairs): 1.0\n",
      "\u001b[32m2022-01-28 14:53:16\u001b[0m - \u001b[1;30mINFO    \u001b[0m Recall (all pairs): 0.9962825278810409\n",
      "\u001b[32m2022-01-28 14:53:16\u001b[0m - \u001b[1;30mINFO    \u001b[0m False positive rate (all pairs): 0.0\n",
      "\u001b[32m2022-01-28 14:53:16\u001b[0m - \u001b[1;30mINFO    \u001b[0m False negative rate (all pairs): 0.0037174721189591198\n",
      "\u001b[32m2022-01-28 14:53:16\u001b[0m - \u001b[1;30mINFO    \u001b[0m AUC (all pairs): 0.9999435034632378\n",
      "\u001b[32m2022-01-28 14:53:16\u001b[0m - \u001b[1;30mINFO    \u001b[0m F-score (all pairs): 0.9992542878448918\n",
      "\u001b[32m2022-01-28 14:53:16\u001b[0m - \u001b[1;30mINFO    \u001b[0m Base rate (non exactmatch pairs): 0.20818291215403129\n",
      "\u001b[32m2022-01-28 14:53:16\u001b[0m - \u001b[1;30mINFO    \u001b[0m Precision (non exactmatch pairs): 1.0\n",
      "\u001b[32m2022-01-28 14:53:16\u001b[0m - \u001b[1;30mINFO    \u001b[0m Recall (non exactmatch pairs): 0.9942196531791907\n",
      "\u001b[32m2022-01-28 14:53:16\u001b[0m - \u001b[1;30mINFO    \u001b[0m False positive rate (non exactmatch pairs): 0.0\n",
      "\u001b[32m2022-01-28 14:53:16\u001b[0m - \u001b[1;30mINFO    \u001b[0m False negative rate (non exactmatch pairs): 0.005780346820809301\n",
      "\u001b[32m2022-01-28 14:53:16\u001b[0m - \u001b[1;30mINFO    \u001b[0m AUC (non exactmatch pairs): 0.9999121527838782\n",
      "\u001b[32m2022-01-28 14:53:16\u001b[0m - \u001b[1;30mINFO    \u001b[0m F-score (non exactmatch pairs): 0.9988385598141696\n",
      "\u001b[32m2022-01-28 14:53:16\u001b[0m - \u001b[1;30mINFO    \u001b[0m Writing stats for task: FitModel\n",
      "\u001b[32m2022-01-28 14:53:17\u001b[0m - \u001b[1;30mINFO    \u001b[0m Running task: Predict\n",
      "\u001b[32m2022-01-28 14:53:19\u001b[0m - \u001b[1;30mINFO    \u001b[0m Writing stats for task: Predict\n",
      "\u001b[32m2022-01-28 14:53:19\u001b[0m - \u001b[1;30mINFO    \u001b[0m Running task: Cluster\n",
      "\u001b[32m2022-01-28 14:53:19\u001b[0m - \u001b[1;30mWARNING \u001b[0m \u001b[33mNo 'constraints_file' provided: using the default link and cluster constraints.\u001b[0m\n",
      "\u001b[32m2022-01-28 14:53:19\u001b[0m - \u001b[1;30mINFO    \u001b[0m Loading must-link links.\n",
      "\u001b[32m2022-01-28 14:53:19\u001b[0m - \u001b[1;30mINFO    \u001b[0m Creating dictionary of cluster information.\n",
      "\u001b[32m2022-01-28 14:53:19\u001b[0m - \u001b[1;30mINFO    \u001b[0m Initializing initial clusters.\n",
      "\u001b[32m2022-01-28 14:53:20\u001b[0m - \u001b[1;30mINFO    \u001b[0m Loading potential links.\n",
      "\u001b[32m2022-01-28 14:53:20\u001b[0m - \u001b[1;30mINFO    \u001b[0m Auto-invalid links: 0\n",
      "\u001b[32m2022-01-28 14:53:20\u001b[0m - \u001b[1;30mINFO    \u001b[0m Invalid links: 0\n",
      "\u001b[32m2022-01-28 14:53:20\u001b[0m - \u001b[1;30mINFO    \u001b[0m Clustering potential links.\n",
      "\u001b[32m2022-01-28 14:53:21\u001b[0m - \u001b[1;30mINFO    \u001b[0m Invalid clusters: 4\n",
      "\u001b[32m2022-01-28 14:53:21\u001b[0m - \u001b[1;30mINFO    \u001b[0m Merges: 3434\n",
      "\u001b[32m2022-01-28 14:53:21\u001b[0m - \u001b[1;30mINFO    \u001b[0m n_merges: 3434\n",
      "\u001b[32m2022-01-28 14:53:21\u001b[0m - \u001b[1;30mINFO    \u001b[0m Number of clusters total: 16876\n",
      "\u001b[32m2022-01-28 14:53:21\u001b[0m - \u001b[1;30mINFO    \u001b[0m Number of singleton clusters: 12485\n",
      "\u001b[32m2022-01-28 14:53:21\u001b[0m - \u001b[1;30mINFO    \u001b[0m Writing stats for task: Cluster\n",
      "\u001b[32m2022-01-28 14:53:22\u001b[0m - \u001b[1;30mINFO    \u001b[0m Running task: GenerateOutput\n",
      "\u001b[32m2022-01-28 14:53:22\u001b[0m - \u001b[1;30mINFO    \u001b[0m Generating all_names file with cluster_id.\n",
      "\u001b[32m2022-01-28 14:53:22\u001b[0m - \u001b[1;30mINFO    \u001b[0m Writing potential_candidates_with_clusterid.csv file.\n",
      "\u001b[32m2022-01-28 14:53:22\u001b[0m - \u001b[1;30mINFO    \u001b[0m Writing past_candidates_with_clusterid.csv file.\n",
      "\u001b[32m2022-01-28 14:53:22\u001b[0m - \u001b[1;30mINFO    \u001b[0m Writing stats for task: GenerateOutput\n"
     ]
    }
   ],
   "source": [
    "nm.run()"
   ]
  },
  {
   "cell_type": "markdown",
   "metadata": {},
   "source": [
    "\\* See the runtime guidelines in the Documentation for a more specific estimate"
   ]
  },
  {
   "cell_type": "markdown",
   "metadata": {},
   "source": [
    "##### Look at the final output"
   ]
  },
  {
   "cell_type": "markdown",
   "metadata": {},
   "source": [
    "The output datasets look exactly like the input datasets, except they now have an additional column called `cluster_id`. This is the unique person identifier that can be used to link records within and across datasets."
   ]
  },
  {
   "cell_type": "code",
   "execution_count": 21,
   "metadata": {},
   "outputs": [
    {
     "data": {
      "text/html": [
       "<div>\n",
       "<style scoped>\n",
       "    .dataframe tbody tr th:only-of-type {\n",
       "        vertical-align: middle;\n",
       "    }\n",
       "\n",
       "    .dataframe tbody tr th {\n",
       "        vertical-align: top;\n",
       "    }\n",
       "\n",
       "    .dataframe thead th {\n",
       "        text-align: right;\n",
       "    }\n",
       "</style>\n",
       "<table border=\"1\" class=\"dataframe\">\n",
       "  <thead>\n",
       "    <tr style=\"text-align: right;\">\n",
       "      <th></th>\n",
       "      <th>name</th>\n",
       "      <th>dob</th>\n",
       "      <th>sex</th>\n",
       "      <th>race</th>\n",
       "      <th>marital_status</th>\n",
       "      <th>first_name</th>\n",
       "      <th>middle_name</th>\n",
       "      <th>last_name</th>\n",
       "      <th>age_in_2025</th>\n",
       "      <th>record_id</th>\n",
       "      <th>cluster_id</th>\n",
       "    </tr>\n",
       "  </thead>\n",
       "  <tbody>\n",
       "    <tr>\n",
       "      <th>0</th>\n",
       "      <td>ANTONIA EUFRASIA VIEIRA DE SOUSA</td>\n",
       "      <td>1975-01-01</td>\n",
       "      <td>M</td>\n",
       "      <td>BRANCA</td>\n",
       "      <td>CASADO(A)</td>\n",
       "      <td>ANTONIA</td>\n",
       "      <td>EUFRASIA</td>\n",
       "      <td>VIEIRA DE SOUSA</td>\n",
       "      <td>50</td>\n",
       "      <td>0</td>\n",
       "      <td>1716</td>\n",
       "    </tr>\n",
       "    <tr>\n",
       "      <th>1</th>\n",
       "      <td>LAURA SOEIRO RODRIGUES</td>\n",
       "      <td>1964-04-12</td>\n",
       "      <td>F</td>\n",
       "      <td>BRANCA</td>\n",
       "      <td>DIVORCIADO(A)</td>\n",
       "      <td>LAURA</td>\n",
       "      <td>SOEIRO</td>\n",
       "      <td>RODRIGUES</td>\n",
       "      <td>60</td>\n",
       "      <td>1</td>\n",
       "      <td>1717</td>\n",
       "    </tr>\n",
       "    <tr>\n",
       "      <th>2</th>\n",
       "      <td>RODOLFO FRANCA GALVAO SEGUNDO</td>\n",
       "      <td>1982-07-19</td>\n",
       "      <td>M</td>\n",
       "      <td>PARDA</td>\n",
       "      <td>CASADO(A)</td>\n",
       "      <td>RODOLFO</td>\n",
       "      <td>FRANCA</td>\n",
       "      <td>GALVAO SEGUNDO</td>\n",
       "      <td>42</td>\n",
       "      <td>2</td>\n",
       "      <td>1718</td>\n",
       "    </tr>\n",
       "    <tr>\n",
       "      <th>3</th>\n",
       "      <td>ROSIMAR FERREIRA DE ARAUJO</td>\n",
       "      <td>1981-07-23</td>\n",
       "      <td>M</td>\n",
       "      <td>PARDA</td>\n",
       "      <td>SOLTEIRO(A)</td>\n",
       "      <td>ROSIMAR</td>\n",
       "      <td>FERREIRA</td>\n",
       "      <td>DE ARAUJO</td>\n",
       "      <td>43</td>\n",
       "      <td>3</td>\n",
       "      <td>1719</td>\n",
       "    </tr>\n",
       "    <tr>\n",
       "      <th>4</th>\n",
       "      <td>BRUNA GOMIDE DA SILVA</td>\n",
       "      <td>1982-07-02</td>\n",
       "      <td>F</td>\n",
       "      <td>PARDA</td>\n",
       "      <td>SOLTEIRO(A)</td>\n",
       "      <td>BRUNA</td>\n",
       "      <td>GOMIDE</td>\n",
       "      <td>DA SILVA</td>\n",
       "      <td>42</td>\n",
       "      <td>4</td>\n",
       "      <td>1720</td>\n",
       "    </tr>\n",
       "  </tbody>\n",
       "</table>\n",
       "</div>"
      ],
      "text/plain": [
       "                               name         dob sex    race marital_status  \\\n",
       "0  ANTONIA EUFRASIA VIEIRA DE SOUSA  1975-01-01   M  BRANCA      CASADO(A)   \n",
       "1            LAURA SOEIRO RODRIGUES  1964-04-12   F  BRANCA  DIVORCIADO(A)   \n",
       "2     RODOLFO FRANCA GALVAO SEGUNDO  1982-07-19   M   PARDA      CASADO(A)   \n",
       "3        ROSIMAR FERREIRA DE ARAUJO  1981-07-23   M   PARDA    SOLTEIRO(A)   \n",
       "4             BRUNA GOMIDE DA SILVA  1982-07-02   F   PARDA    SOLTEIRO(A)   \n",
       "\n",
       "  first_name middle_name        last_name  age_in_2025  record_id  cluster_id  \n",
       "0    ANTONIA    EUFRASIA  VIEIRA DE SOUSA           50          0        1716  \n",
       "1      LAURA      SOEIRO        RODRIGUES           60          1        1717  \n",
       "2    RODOLFO      FRANCA   GALVAO SEGUNDO           42          2        1718  \n",
       "3    ROSIMAR    FERREIRA        DE ARAUJO           43          3        1719  \n",
       "4      BRUNA      GOMIDE         DA SILVA           42          4        1720  "
      ]
     },
     "execution_count": 21,
     "metadata": {},
     "output_type": "execute_result"
    },
    {
     "data": {
      "text/html": [
       "<div>\n",
       "<style scoped>\n",
       "    .dataframe tbody tr th:only-of-type {\n",
       "        vertical-align: middle;\n",
       "    }\n",
       "\n",
       "    .dataframe tbody tr th {\n",
       "        vertical-align: top;\n",
       "    }\n",
       "\n",
       "    .dataframe thead th {\n",
       "        text-align: right;\n",
       "    }\n",
       "</style>\n",
       "<table border=\"1\" class=\"dataframe\">\n",
       "  <thead>\n",
       "    <tr style=\"text-align: right;\">\n",
       "      <th></th>\n",
       "      <th>candidacy_id</th>\n",
       "      <th>candidate_id</th>\n",
       "      <th>full_name</th>\n",
       "      <th>dob</th>\n",
       "      <th>gender</th>\n",
       "      <th>race</th>\n",
       "      <th>marital_status</th>\n",
       "      <th>election_date</th>\n",
       "      <th>home_state</th>\n",
       "      <th>first_name</th>\n",
       "      <th>middle_name</th>\n",
       "      <th>last_name</th>\n",
       "      <th>age_in_2025</th>\n",
       "      <th>cluster_id</th>\n",
       "    </tr>\n",
       "  </thead>\n",
       "  <tbody>\n",
       "    <tr>\n",
       "      <th>0</th>\n",
       "      <td>674185040</td>\n",
       "      <td>40845818449</td>\n",
       "      <td>AZMAZETE BERNARDINO DE SENA PAIVA</td>\n",
       "      <td>1966-12-21</td>\n",
       "      <td>F</td>\n",
       "      <td>PARDA</td>\n",
       "      <td>DIVORCIADO(A)</td>\n",
       "      <td>2014-10-05</td>\n",
       "      <td>PE</td>\n",
       "      <td>AZMAZETE</td>\n",
       "      <td>BERNARDINO</td>\n",
       "      <td>DE SENA PAIVA</td>\n",
       "      <td>58</td>\n",
       "      <td>0</td>\n",
       "    </tr>\n",
       "    <tr>\n",
       "      <th>1</th>\n",
       "      <td>391482866</td>\n",
       "      <td>94465061234</td>\n",
       "      <td>CLAUDIA GOMES ROLIM</td>\n",
       "      <td>1981-05-15</td>\n",
       "      <td>F</td>\n",
       "      <td>PARDA</td>\n",
       "      <td>SOLTEIRO(A)</td>\n",
       "      <td>2014-10-05</td>\n",
       "      <td>RO</td>\n",
       "      <td>CLAUDIA</td>\n",
       "      <td>GOMES</td>\n",
       "      <td>ROLIM</td>\n",
       "      <td>43</td>\n",
       "      <td>12304</td>\n",
       "    </tr>\n",
       "    <tr>\n",
       "      <th>2</th>\n",
       "      <td>351167154</td>\n",
       "      <td>1356367798</td>\n",
       "      <td>JOANA D ARC MAGESKI DE SOUSA</td>\n",
       "      <td>1973-05-22</td>\n",
       "      <td>F</td>\n",
       "      <td>BRANCA</td>\n",
       "      <td>CASADO(A)</td>\n",
       "      <td>2014-10-05</td>\n",
       "      <td>ES</td>\n",
       "      <td>JOANA</td>\n",
       "      <td>D</td>\n",
       "      <td>ARC MAGESKI DE SOUSA</td>\n",
       "      <td>51</td>\n",
       "      <td>1202</td>\n",
       "    </tr>\n",
       "    <tr>\n",
       "      <th>3</th>\n",
       "      <td>617984557</td>\n",
       "      <td>26771321843</td>\n",
       "      <td>MARIA ZILDA SILVA</td>\n",
       "      <td>1969-02-28</td>\n",
       "      <td>F</td>\n",
       "      <td>BRANCA</td>\n",
       "      <td>DIVORCIADO(A)</td>\n",
       "      <td>2014-10-05</td>\n",
       "      <td>SP</td>\n",
       "      <td>MARIA</td>\n",
       "      <td>ZILDA</td>\n",
       "      <td>SILVA</td>\n",
       "      <td>55</td>\n",
       "      <td>12305</td>\n",
       "    </tr>\n",
       "    <tr>\n",
       "      <th>4</th>\n",
       "      <td>441638425</td>\n",
       "      <td>31813569649</td>\n",
       "      <td>HELENA MARIA DE SOUSA</td>\n",
       "      <td>1953-08-09</td>\n",
       "      <td>F</td>\n",
       "      <td>PRETA</td>\n",
       "      <td>SOLTEIRO(A)</td>\n",
       "      <td>2014-10-05</td>\n",
       "      <td>MG</td>\n",
       "      <td>HELENA</td>\n",
       "      <td>MARIA</td>\n",
       "      <td>DE SOUSA</td>\n",
       "      <td>71</td>\n",
       "      <td>12306</td>\n",
       "    </tr>\n",
       "  </tbody>\n",
       "</table>\n",
       "</div>"
      ],
      "text/plain": [
       "   candidacy_id  candidate_id                          full_name         dob  \\\n",
       "0     674185040   40845818449  AZMAZETE BERNARDINO DE SENA PAIVA  1966-12-21   \n",
       "1     391482866   94465061234                CLAUDIA GOMES ROLIM  1981-05-15   \n",
       "2     351167154    1356367798       JOANA D ARC MAGESKI DE SOUSA  1973-05-22   \n",
       "3     617984557   26771321843                  MARIA ZILDA SILVA  1969-02-28   \n",
       "4     441638425   31813569649              HELENA MARIA DE SOUSA  1953-08-09   \n",
       "\n",
       "  gender    race marital_status election_date home_state first_name  \\\n",
       "0      F   PARDA  DIVORCIADO(A)    2014-10-05         PE   AZMAZETE   \n",
       "1      F   PARDA    SOLTEIRO(A)    2014-10-05         RO    CLAUDIA   \n",
       "2      F  BRANCA      CASADO(A)    2014-10-05         ES      JOANA   \n",
       "3      F  BRANCA  DIVORCIADO(A)    2014-10-05         SP      MARIA   \n",
       "4      F   PRETA    SOLTEIRO(A)    2014-10-05         MG     HELENA   \n",
       "\n",
       "  middle_name             last_name  age_in_2025  cluster_id  \n",
       "0  BERNARDINO         DE SENA PAIVA           58           0  \n",
       "1       GOMES                 ROLIM           43       12304  \n",
       "2           D  ARC MAGESKI DE SOUSA           51        1202  \n",
       "3       ZILDA                 SILVA           55       12305  \n",
       "4       MARIA              DE SOUSA           71       12306  "
      ]
     },
     "execution_count": 21,
     "metadata": {},
     "output_type": "execute_result"
    }
   ],
   "source": [
    "matched_potential_candidates = pd.read_csv('tutorial_output/potential_candidates_with_clusterid.csv')\n",
    "matched_past_candidates = pd.read_csv('tutorial_output/past_candidates_with_clusterid.csv')\n",
    "\n",
    "matched_potential_candidates.head()\n",
    "matched_past_candidates.head()"
   ]
  },
  {
   "cell_type": "markdown",
   "metadata": {},
   "source": [
    "# So how many of the potential candidate have run for office before?"
   ]
  },
  {
   "cell_type": "markdown",
   "metadata": {},
   "source": [
    "We can answer this question by seeing what share of `cluster_ids` from the potential candidate's dataset appear in the past candidates dataset."
   ]
  },
  {
   "cell_type": "code",
   "execution_count": 22,
   "metadata": {},
   "outputs": [
    {
     "name": "stdout",
     "output_type": "stream",
     "text": [
      "32.4%\n"
     ]
    }
   ],
   "source": [
    "share_run_before__algorithm = matched_potential_candidates.cluster_id.isin(matched_past_candidates.cluster_id).mean()\n",
    "print(f\"{(share_run_before__algorithm * 100).round(1)}%\")"
   ]
  },
  {
   "cell_type": "markdown",
   "metadata": {},
   "source": [
    "# Understanding results"
   ]
  },
  {
   "cell_type": "markdown",
   "metadata": {},
   "source": [
    "It is often challenging to get exact estimates of the error in your match, since the reason you needed a probabilistic record linkage solution in the first place is because you don't know exactly which records should be linked and which records shouldn't. However, there are several steps you can take to ensure there are no major problems with your matching process or results. "
   ]
  },
  {
   "cell_type": "markdown",
   "metadata": {},
   "source": [
    "#### Look at the metrics automatically output by Name Match"
   ]
  },
  {
   "cell_type": "markdown",
   "metadata": {},
   "source": [
    "Name Match generates several performance metrics automatically during processing. While the exact value of these measures will vary task to task, it's a good idea to understand what the metrics mean so you can gauge whether the values you're seeing make sense for your matching task. And since these metrics are output as they are calculated, they can often serve as an early warning system of any big issues with the match config or pre-processing."
   ]
  },
  {
   "cell_type": "markdown",
   "metadata": {},
   "source": [
    "##### Pair Completeness"
   ]
  },
  {
   "cell_type": "markdown",
   "metadata": {},
   "source": [
    "One metric, called Pair Completeness, essentially measures the \"recall\" of Name Match's blocking step. Specifically, it measures how many of the name/dob pairs that are *known* to belong to the same person make it past the first big match-filtering step of the algorithm. Ideally, this measure will be ~90%+. \n",
    "\n",
    "Based on the following line logged during the `run()` call, we can see that the pair completeness metric looks good for this task.\n",
    "\n",
    "`Pair completeness, including equal blockstrings (cosine + editdistance level): 0.956`"
   ]
  },
  {
   "cell_type": "markdown",
   "metadata": {},
   "source": [
    "##### Out-of-sample precision, recall, AUC"
   ]
  },
  {
   "cell_type": "markdown",
   "metadata": {},
   "source": [
    "One of the three main steps in the Name Match algorithm is a standard supervised prediction problem. A match-or-no-match model is learned using 90% (by default) of the labeled pairs. The model is then evaluated on the held-out labeled pairs, using standard binary model evaluation metrics like precision, recall, and AUC. Typical values of successful matches are ~95%+. You can find these metrics in the log under the `----- EVALUATING BASIC MATCH MODEL -----` heading. \n",
    "\n",
    "For this task, we see precision, recall, and AUC value either 1 or very very close."
   ]
  },
  {
   "cell_type": "markdown",
   "metadata": {},
   "source": [
    "#### Calculate matching statistics"
   ]
  },
  {
   "cell_type": "markdown",
   "metadata": {},
   "source": [
    "How many links were made? What share of people in dataset A appear in dataset B? How many records does each person have across all datasets -- min, max, average? These types of matching statistics can be very helpful for understanding the quality of your match.\n",
    "\n",
    "For example, if the statistic we calculated above (i.e. how many people in the potential candidates file linked to a record in the past candidate's file?) was a lot higher or lower -- e.g. 99% or 1% -- your intuition and understanding of politics might tell you that there was a problem."
   ]
  },
  {
   "cell_type": "markdown",
   "metadata": {},
   "source": [
    "As another sanity check, let's see what the maximum number of records a single person has is. To do this, we'll load the \"all names\" file -- this is simply the complete list of records that were matched by the algorithm."
   ]
  },
  {
   "cell_type": "code",
   "execution_count": 23,
   "metadata": {},
   "outputs": [],
   "source": [
    "all_records = pd.read_csv('tutorial_output/details/all_names_with_clusterid.csv', dtype={'official_candidate_id':'str'})\n",
    "all_records['n_records'] = all_records.groupby('cluster_id').record_id.transform('nunique')\n",
    "all_records = all_records.drop(columns=['file_type', 'blockstring', 'dataset', 'drop_from_nm'])"
   ]
  },
  {
   "cell_type": "code",
   "execution_count": 24,
   "metadata": {},
   "outputs": [
    {
     "data": {
      "text/plain": [
       "5"
      ]
     },
     "execution_count": 24,
     "metadata": {},
     "output_type": "execute_result"
    }
   ],
   "source": [
    "all_records.n_records.max()"
   ]
  },
  {
   "cell_type": "markdown",
   "metadata": {},
   "source": [
    "The most times that a person has run for office is 5. This means that a person has either run in five difference races in the last 3 election years, or they've run in 4 difference races and are considering running again in the upcoming election. That seems reasonable, given that it's possible for a candidate to run for multiple seats (e.g. state and federal) in the same year. "
   ]
  },
  {
   "cell_type": "markdown",
   "metadata": {},
   "source": [
    "#### Randomly flip through clusters, especially the bigger clusters"
   ]
  },
  {
   "cell_type": "markdown",
   "metadata": {},
   "source": [
    "It's always a good idea to spot check some of the clusters -- groups of records assigned to the same person -- to get a micro-level view of some example links. I like to look at a random set of clusters (where at least one link was made) and then look specifically at the larger clusters."
   ]
  },
  {
   "cell_type": "markdown",
   "metadata": {},
   "source": [
    "##### Random clusters"
   ]
  },
  {
   "cell_type": "code",
   "execution_count": 25,
   "metadata": {},
   "outputs": [
    {
     "data": {
      "text/plain": [
       "1291"
      ]
     },
     "execution_count": 25,
     "metadata": {},
     "output_type": "execute_result"
    },
    {
     "data": {
      "text/html": [
       "<div>\n",
       "<style scoped>\n",
       "    .dataframe tbody tr th:only-of-type {\n",
       "        vertical-align: middle;\n",
       "    }\n",
       "\n",
       "    .dataframe tbody tr th {\n",
       "        vertical-align: top;\n",
       "    }\n",
       "\n",
       "    .dataframe thead th {\n",
       "        text-align: right;\n",
       "    }\n",
       "</style>\n",
       "<table border=\"1\" class=\"dataframe\">\n",
       "  <thead>\n",
       "    <tr style=\"text-align: right;\">\n",
       "      <th></th>\n",
       "      <th>record_id</th>\n",
       "      <th>first_name</th>\n",
       "      <th>last_name</th>\n",
       "      <th>dob</th>\n",
       "      <th>age</th>\n",
       "      <th>middle_name</th>\n",
       "      <th>gender</th>\n",
       "      <th>race</th>\n",
       "      <th>marital_status</th>\n",
       "      <th>official_candidate_id</th>\n",
       "      <th>cluster_id</th>\n",
       "      <th>n_records</th>\n",
       "    </tr>\n",
       "  </thead>\n",
       "  <tbody>\n",
       "    <tr>\n",
       "      <th>8012</th>\n",
       "      <td>potential_candidates__8012</td>\n",
       "      <td>WILSON</td>\n",
       "      <td>DA SILVA</td>\n",
       "      <td>1980-01-22</td>\n",
       "      <td>44</td>\n",
       "      <td>GOMES</td>\n",
       "      <td>M</td>\n",
       "      <td>PRETA</td>\n",
       "      <td>SOLTEIRO(A)</td>\n",
       "      <td>NaN</td>\n",
       "      <td>1291</td>\n",
       "      <td>4</td>\n",
       "    </tr>\n",
       "    <tr>\n",
       "      <th>10709</th>\n",
       "      <td>past_candidates__107360054</td>\n",
       "      <td>WILSON</td>\n",
       "      <td>DA SILVA</td>\n",
       "      <td>1980-01-22</td>\n",
       "      <td>44</td>\n",
       "      <td>GOMES</td>\n",
       "      <td>M</td>\n",
       "      <td>PARDA</td>\n",
       "      <td>SOLTEIRO(A)</td>\n",
       "      <td>90915542153</td>\n",
       "      <td>1291</td>\n",
       "      <td>4</td>\n",
       "    </tr>\n",
       "    <tr>\n",
       "      <th>16568</th>\n",
       "      <td>past_candidates__148146566</td>\n",
       "      <td>WILSON</td>\n",
       "      <td>DA SILVA</td>\n",
       "      <td>1980-01-21</td>\n",
       "      <td>44</td>\n",
       "      <td>GOMES</td>\n",
       "      <td>M</td>\n",
       "      <td>PARDA</td>\n",
       "      <td>SOLTEIRO(A)</td>\n",
       "      <td>90915542153</td>\n",
       "      <td>1291</td>\n",
       "      <td>4</td>\n",
       "    </tr>\n",
       "    <tr>\n",
       "      <th>16881</th>\n",
       "      <td>past_candidates__110778780</td>\n",
       "      <td>WILSON</td>\n",
       "      <td>DA SILVA</td>\n",
       "      <td>1980-01-22</td>\n",
       "      <td>44</td>\n",
       "      <td>GOMES</td>\n",
       "      <td>M</td>\n",
       "      <td>PRETA</td>\n",
       "      <td>SOLTEIRO(A)</td>\n",
       "      <td>90915542153</td>\n",
       "      <td>1291</td>\n",
       "      <td>4</td>\n",
       "    </tr>\n",
       "  </tbody>\n",
       "</table>\n",
       "</div>"
      ],
      "text/plain": [
       "                        record_id first_name last_name         dob  age  \\\n",
       "8012   potential_candidates__8012     WILSON  DA SILVA  1980-01-22   44   \n",
       "10709  past_candidates__107360054     WILSON  DA SILVA  1980-01-22   44   \n",
       "16568  past_candidates__148146566     WILSON  DA SILVA  1980-01-21   44   \n",
       "16881  past_candidates__110778780     WILSON  DA SILVA  1980-01-22   44   \n",
       "\n",
       "      middle_name gender   race marital_status official_candidate_id  \\\n",
       "8012        GOMES      M  PRETA    SOLTEIRO(A)                   NaN   \n",
       "10709       GOMES      M  PARDA    SOLTEIRO(A)           90915542153   \n",
       "16568       GOMES      M  PARDA    SOLTEIRO(A)           90915542153   \n",
       "16881       GOMES      M  PRETA    SOLTEIRO(A)           90915542153   \n",
       "\n",
       "       cluster_id  n_records  \n",
       "8012         1291          4  \n",
       "10709        1291          4  \n",
       "16568        1291          4  \n",
       "16881        1291          4  "
      ]
     },
     "execution_count": 25,
     "metadata": {},
     "output_type": "execute_result"
    }
   ],
   "source": [
    "random_cluster = all_records[all_records.n_records > 1].cluster_id.sample().iloc[0]\n",
    "random_cluster\n",
    "\n",
    "all_records[all_records.cluster_id == random_cluster]"
   ]
  },
  {
   "cell_type": "markdown",
   "metadata": {},
   "source": [
    "##### Look at the biggest cluster(s)"
   ]
  },
  {
   "cell_type": "code",
   "execution_count": 26,
   "metadata": {},
   "outputs": [
    {
     "data": {
      "text/plain": [
       "5"
      ]
     },
     "execution_count": 26,
     "metadata": {},
     "output_type": "execute_result"
    },
    {
     "data": {
      "text/plain": [
       "cluster_id\n",
       "172     5\n",
       "1032    5\n",
       "1118    5\n",
       "1159    5\n",
       "1162    5\n",
       "1181    5\n",
       "1400    5\n",
       "dtype: int64"
      ]
     },
     "execution_count": 26,
     "metadata": {},
     "output_type": "execute_result"
    }
   ],
   "source": [
    "cluster_n = all_records.groupby('cluster_id').size()\n",
    "cluster_n.max()\n",
    "cluster_n[cluster_n >= 5]"
   ]
  },
  {
   "cell_type": "code",
   "execution_count": 27,
   "metadata": {},
   "outputs": [
    {
     "data": {
      "text/html": [
       "<div>\n",
       "<style scoped>\n",
       "    .dataframe tbody tr th:only-of-type {\n",
       "        vertical-align: middle;\n",
       "    }\n",
       "\n",
       "    .dataframe tbody tr th {\n",
       "        vertical-align: top;\n",
       "    }\n",
       "\n",
       "    .dataframe thead th {\n",
       "        text-align: right;\n",
       "    }\n",
       "</style>\n",
       "<table border=\"1\" class=\"dataframe\">\n",
       "  <thead>\n",
       "    <tr style=\"text-align: right;\">\n",
       "      <th></th>\n",
       "      <th>record_id</th>\n",
       "      <th>first_name</th>\n",
       "      <th>last_name</th>\n",
       "      <th>dob</th>\n",
       "      <th>age</th>\n",
       "      <th>middle_name</th>\n",
       "      <th>gender</th>\n",
       "      <th>race</th>\n",
       "      <th>marital_status</th>\n",
       "      <th>official_candidate_id</th>\n",
       "      <th>cluster_id</th>\n",
       "      <th>n_records</th>\n",
       "    </tr>\n",
       "  </thead>\n",
       "  <tbody>\n",
       "    <tr>\n",
       "      <th>439</th>\n",
       "      <td>potential_candidates__439</td>\n",
       "      <td>MARCO</td>\n",
       "      <td>SOUZA RIBEIRO DA COSTA</td>\n",
       "      <td>1969-06-25</td>\n",
       "      <td>55</td>\n",
       "      <td>ANTONIO</td>\n",
       "      <td>M</td>\n",
       "      <td>BRANCA</td>\n",
       "      <td>CASADO(A)</td>\n",
       "      <td>NaN</td>\n",
       "      <td>1162</td>\n",
       "      <td>5</td>\n",
       "    </tr>\n",
       "    <tr>\n",
       "      <th>10658</th>\n",
       "      <td>past_candidates__816141244</td>\n",
       "      <td>MARCO</td>\n",
       "      <td>SOUZA RIBEIRO DA COSTA</td>\n",
       "      <td>1969-06-25</td>\n",
       "      <td>55</td>\n",
       "      <td>ANTONIO</td>\n",
       "      <td>M</td>\n",
       "      <td>BRANCA</td>\n",
       "      <td>CASADO(A)</td>\n",
       "      <td>9331269803</td>\n",
       "      <td>1162</td>\n",
       "      <td>5</td>\n",
       "    </tr>\n",
       "    <tr>\n",
       "      <th>14598</th>\n",
       "      <td>past_candidates__113204699</td>\n",
       "      <td>MARCO</td>\n",
       "      <td>SOUZA RIBEIRO DA COSTA</td>\n",
       "      <td>1969-06-25</td>\n",
       "      <td>55</td>\n",
       "      <td>ANTONIO</td>\n",
       "      <td>M</td>\n",
       "      <td>BRANCA</td>\n",
       "      <td>CASADO(A)</td>\n",
       "      <td>9331269803</td>\n",
       "      <td>1162</td>\n",
       "      <td>5</td>\n",
       "    </tr>\n",
       "    <tr>\n",
       "      <th>21142</th>\n",
       "      <td>past_candidates__920501723</td>\n",
       "      <td>MARCO</td>\n",
       "      <td>SOUZA RIBEIRO DA COSTA</td>\n",
       "      <td>1969-06-25</td>\n",
       "      <td>55</td>\n",
       "      <td>ANTONIO</td>\n",
       "      <td>M</td>\n",
       "      <td>BRANCA</td>\n",
       "      <td>CASADO(A)</td>\n",
       "      <td>9331269803</td>\n",
       "      <td>1162</td>\n",
       "      <td>5</td>\n",
       "    </tr>\n",
       "    <tr>\n",
       "      <th>21703</th>\n",
       "      <td>past_candidates__405227063</td>\n",
       "      <td>MARCO</td>\n",
       "      <td>RIBEIRO DA COSTA</td>\n",
       "      <td>1969-06-25</td>\n",
       "      <td>55</td>\n",
       "      <td>ANTONIO</td>\n",
       "      <td>M</td>\n",
       "      <td>BRANCA</td>\n",
       "      <td>CASADO(A)</td>\n",
       "      <td>9331269803</td>\n",
       "      <td>1162</td>\n",
       "      <td>5</td>\n",
       "    </tr>\n",
       "  </tbody>\n",
       "</table>\n",
       "</div>"
      ],
      "text/plain": [
       "                        record_id first_name               last_name  \\\n",
       "439     potential_candidates__439      MARCO  SOUZA RIBEIRO DA COSTA   \n",
       "10658  past_candidates__816141244      MARCO  SOUZA RIBEIRO DA COSTA   \n",
       "14598  past_candidates__113204699      MARCO  SOUZA RIBEIRO DA COSTA   \n",
       "21142  past_candidates__920501723      MARCO  SOUZA RIBEIRO DA COSTA   \n",
       "21703  past_candidates__405227063      MARCO        RIBEIRO DA COSTA   \n",
       "\n",
       "              dob  age middle_name gender    race marital_status  \\\n",
       "439    1969-06-25   55     ANTONIO      M  BRANCA      CASADO(A)   \n",
       "10658  1969-06-25   55     ANTONIO      M  BRANCA      CASADO(A)   \n",
       "14598  1969-06-25   55     ANTONIO      M  BRANCA      CASADO(A)   \n",
       "21142  1969-06-25   55     ANTONIO      M  BRANCA      CASADO(A)   \n",
       "21703  1969-06-25   55     ANTONIO      M  BRANCA      CASADO(A)   \n",
       "\n",
       "      official_candidate_id  cluster_id  n_records  \n",
       "439                     NaN        1162          5  \n",
       "10658            9331269803        1162          5  \n",
       "14598            9331269803        1162          5  \n",
       "21142            9331269803        1162          5  \n",
       "21703            9331269803        1162          5  "
      ]
     },
     "execution_count": 27,
     "metadata": {},
     "output_type": "execute_result"
    }
   ],
   "source": [
    "all_records[all_records.cluster_id == 1162]"
   ]
  },
  {
   "cell_type": "markdown",
   "metadata": {},
   "source": [
    "This 5-record cluster looks good. The algorithm linked a potential candidate to 4 records from past candidacies. One of the records has a slightly different representation of last name -- but the matching other fields indicate that including this record in the cluster was the right decision."
   ]
  },
  {
   "cell_type": "code",
   "execution_count": 28,
   "metadata": {},
   "outputs": [
    {
     "data": {
      "text/html": [
       "<div>\n",
       "<style scoped>\n",
       "    .dataframe tbody tr th:only-of-type {\n",
       "        vertical-align: middle;\n",
       "    }\n",
       "\n",
       "    .dataframe tbody tr th {\n",
       "        vertical-align: top;\n",
       "    }\n",
       "\n",
       "    .dataframe thead th {\n",
       "        text-align: right;\n",
       "    }\n",
       "</style>\n",
       "<table border=\"1\" class=\"dataframe\">\n",
       "  <thead>\n",
       "    <tr style=\"text-align: right;\">\n",
       "      <th></th>\n",
       "      <th>record_id</th>\n",
       "      <th>first_name</th>\n",
       "      <th>last_name</th>\n",
       "      <th>dob</th>\n",
       "      <th>age</th>\n",
       "      <th>middle_name</th>\n",
       "      <th>gender</th>\n",
       "      <th>race</th>\n",
       "      <th>marital_status</th>\n",
       "      <th>official_candidate_id</th>\n",
       "      <th>cluster_id</th>\n",
       "      <th>n_records</th>\n",
       "    </tr>\n",
       "  </thead>\n",
       "  <tbody>\n",
       "    <tr>\n",
       "      <th>1608</th>\n",
       "      <td>potential_candidates__1608</td>\n",
       "      <td>RAIMUNDO</td>\n",
       "      <td>DE MIRANDA</td>\n",
       "      <td>1966-01-20</td>\n",
       "      <td>58</td>\n",
       "      <td>ANTUNES</td>\n",
       "      <td>M</td>\n",
       "      <td>PARDA</td>\n",
       "      <td>CASADO(A)</td>\n",
       "      <td>NaN</td>\n",
       "      <td>1118</td>\n",
       "      <td>5</td>\n",
       "    </tr>\n",
       "    <tr>\n",
       "      <th>10914</th>\n",
       "      <td>past_candidates__274628643</td>\n",
       "      <td>RAIMUNDO</td>\n",
       "      <td>DE MIRANDA</td>\n",
       "      <td>1966-01-19</td>\n",
       "      <td>58</td>\n",
       "      <td>ANTUNES</td>\n",
       "      <td>M</td>\n",
       "      <td>BRANCA</td>\n",
       "      <td>CASADO(A)</td>\n",
       "      <td>49819020425</td>\n",
       "      <td>1118</td>\n",
       "      <td>5</td>\n",
       "    </tr>\n",
       "    <tr>\n",
       "      <th>20508</th>\n",
       "      <td>past_candidates__400578545</td>\n",
       "      <td>RAIMUNDO</td>\n",
       "      <td>DE MIRANDA</td>\n",
       "      <td>1966-01-20</td>\n",
       "      <td>58</td>\n",
       "      <td>ANTUNES</td>\n",
       "      <td>M</td>\n",
       "      <td>PARDA</td>\n",
       "      <td>CASADO(A)</td>\n",
       "      <td>49819020425</td>\n",
       "      <td>1118</td>\n",
       "      <td>5</td>\n",
       "    </tr>\n",
       "    <tr>\n",
       "      <th>20515</th>\n",
       "      <td>past_candidates__614256201</td>\n",
       "      <td>RAIMUNDO</td>\n",
       "      <td>DE MIRANDA</td>\n",
       "      <td>1966-01-20</td>\n",
       "      <td>58</td>\n",
       "      <td>ANTUNES</td>\n",
       "      <td>M</td>\n",
       "      <td>PARDA</td>\n",
       "      <td>CASADO(A)</td>\n",
       "      <td>49819020425</td>\n",
       "      <td>1118</td>\n",
       "      <td>5</td>\n",
       "    </tr>\n",
       "    <tr>\n",
       "      <th>21619</th>\n",
       "      <td>past_candidates__387740913</td>\n",
       "      <td>RAIMUNDO</td>\n",
       "      <td>DE MIRANDA</td>\n",
       "      <td>1966-01-20</td>\n",
       "      <td>58</td>\n",
       "      <td>ANTUNES</td>\n",
       "      <td>M</td>\n",
       "      <td>BRANCA</td>\n",
       "      <td>CASADO(A)</td>\n",
       "      <td>49819020425</td>\n",
       "      <td>1118</td>\n",
       "      <td>5</td>\n",
       "    </tr>\n",
       "  </tbody>\n",
       "</table>\n",
       "</div>"
      ],
      "text/plain": [
       "                        record_id first_name   last_name         dob  age  \\\n",
       "1608   potential_candidates__1608   RAIMUNDO  DE MIRANDA  1966-01-20   58   \n",
       "10914  past_candidates__274628643   RAIMUNDO  DE MIRANDA  1966-01-19   58   \n",
       "20508  past_candidates__400578545   RAIMUNDO  DE MIRANDA  1966-01-20   58   \n",
       "20515  past_candidates__614256201   RAIMUNDO  DE MIRANDA  1966-01-20   58   \n",
       "21619  past_candidates__387740913   RAIMUNDO  DE MIRANDA  1966-01-20   58   \n",
       "\n",
       "      middle_name gender    race marital_status official_candidate_id  \\\n",
       "1608      ANTUNES      M   PARDA      CASADO(A)                   NaN   \n",
       "10914     ANTUNES      M  BRANCA      CASADO(A)           49819020425   \n",
       "20508     ANTUNES      M   PARDA      CASADO(A)           49819020425   \n",
       "20515     ANTUNES      M   PARDA      CASADO(A)           49819020425   \n",
       "21619     ANTUNES      M  BRANCA      CASADO(A)           49819020425   \n",
       "\n",
       "       cluster_id  n_records  \n",
       "1608         1118          5  \n",
       "10914        1118          5  \n",
       "20508        1118          5  \n",
       "20515        1118          5  \n",
       "21619        1118          5  "
      ]
     },
     "execution_count": 28,
     "metadata": {},
     "output_type": "execute_result"
    }
   ],
   "source": [
    "all_records[all_records.cluster_id == 1118]"
   ]
  },
  {
   "cell_type": "markdown",
   "metadata": {},
   "source": [
    "Despite having a record with a one-day-away DOB and having two different race values, the five records in this cluster appear to all belong to the same person."
   ]
  },
  {
   "cell_type": "code",
   "execution_count": 29,
   "metadata": {},
   "outputs": [
    {
     "data": {
      "text/html": [
       "<div>\n",
       "<style scoped>\n",
       "    .dataframe tbody tr th:only-of-type {\n",
       "        vertical-align: middle;\n",
       "    }\n",
       "\n",
       "    .dataframe tbody tr th {\n",
       "        vertical-align: top;\n",
       "    }\n",
       "\n",
       "    .dataframe thead th {\n",
       "        text-align: right;\n",
       "    }\n",
       "</style>\n",
       "<table border=\"1\" class=\"dataframe\">\n",
       "  <thead>\n",
       "    <tr style=\"text-align: right;\">\n",
       "      <th></th>\n",
       "      <th>record_id</th>\n",
       "      <th>first_name</th>\n",
       "      <th>last_name</th>\n",
       "      <th>dob</th>\n",
       "      <th>age</th>\n",
       "      <th>middle_name</th>\n",
       "      <th>gender</th>\n",
       "      <th>race</th>\n",
       "      <th>marital_status</th>\n",
       "      <th>official_candidate_id</th>\n",
       "      <th>cluster_id</th>\n",
       "      <th>n_records</th>\n",
       "    </tr>\n",
       "  </thead>\n",
       "  <tbody>\n",
       "    <tr>\n",
       "      <th>620</th>\n",
       "      <td>potential_candidates__620</td>\n",
       "      <td>JOSE</td>\n",
       "      <td>DE SOUSA NETO</td>\n",
       "      <td>1958-03-19</td>\n",
       "      <td>66</td>\n",
       "      <td>JULIO</td>\n",
       "      <td>M</td>\n",
       "      <td>BRANCA</td>\n",
       "      <td>CASADO(A)</td>\n",
       "      <td>NaN</td>\n",
       "      <td>1400</td>\n",
       "      <td>5</td>\n",
       "    </tr>\n",
       "    <tr>\n",
       "      <th>10055</th>\n",
       "      <td>potential_candidates__10055</td>\n",
       "      <td>JOSE</td>\n",
       "      <td>DE SOUSA DINELLY</td>\n",
       "      <td>1958-03-19</td>\n",
       "      <td>66</td>\n",
       "      <td>MARIA</td>\n",
       "      <td>M</td>\n",
       "      <td>PARDA</td>\n",
       "      <td>CASADO(A)</td>\n",
       "      <td>NaN</td>\n",
       "      <td>1400</td>\n",
       "      <td>5</td>\n",
       "    </tr>\n",
       "    <tr>\n",
       "      <th>11250</th>\n",
       "      <td>past_candidates__420175251</td>\n",
       "      <td>JOSE</td>\n",
       "      <td>DE SOUSA DINELY</td>\n",
       "      <td>1958-03-19</td>\n",
       "      <td>66</td>\n",
       "      <td>MARIA</td>\n",
       "      <td>M</td>\n",
       "      <td>PARDA</td>\n",
       "      <td>CASADO(A)</td>\n",
       "      <td>7248857220</td>\n",
       "      <td>1400</td>\n",
       "      <td>5</td>\n",
       "    </tr>\n",
       "    <tr>\n",
       "      <th>11904</th>\n",
       "      <td>past_candidates__889948730</td>\n",
       "      <td>JOSE</td>\n",
       "      <td>DE SOUZA DINELY</td>\n",
       "      <td>1958-03-19</td>\n",
       "      <td>66</td>\n",
       "      <td>MARIA</td>\n",
       "      <td>M</td>\n",
       "      <td>BRANCA</td>\n",
       "      <td>CASADO(A)</td>\n",
       "      <td>7248857220</td>\n",
       "      <td>1400</td>\n",
       "      <td>5</td>\n",
       "    </tr>\n",
       "    <tr>\n",
       "      <th>21209</th>\n",
       "      <td>past_candidates__454079248</td>\n",
       "      <td>JOSE</td>\n",
       "      <td>DE SOUSA DINELLY</td>\n",
       "      <td>1958-03-19</td>\n",
       "      <td>66</td>\n",
       "      <td>MARIA</td>\n",
       "      <td>M</td>\n",
       "      <td>BRANCA</td>\n",
       "      <td>CASADO(A)</td>\n",
       "      <td>7248857220</td>\n",
       "      <td>1400</td>\n",
       "      <td>5</td>\n",
       "    </tr>\n",
       "  </tbody>\n",
       "</table>\n",
       "</div>"
      ],
      "text/plain": [
       "                         record_id first_name         last_name         dob  \\\n",
       "620      potential_candidates__620       JOSE     DE SOUSA NETO  1958-03-19   \n",
       "10055  potential_candidates__10055       JOSE  DE SOUSA DINELLY  1958-03-19   \n",
       "11250   past_candidates__420175251       JOSE   DE SOUSA DINELY  1958-03-19   \n",
       "11904   past_candidates__889948730       JOSE   DE SOUZA DINELY  1958-03-19   \n",
       "21209   past_candidates__454079248       JOSE  DE SOUSA DINELLY  1958-03-19   \n",
       "\n",
       "       age middle_name gender    race marital_status official_candidate_id  \\\n",
       "620     66       JULIO      M  BRANCA      CASADO(A)                   NaN   \n",
       "10055   66       MARIA      M   PARDA      CASADO(A)                   NaN   \n",
       "11250   66       MARIA      M   PARDA      CASADO(A)            7248857220   \n",
       "11904   66       MARIA      M  BRANCA      CASADO(A)            7248857220   \n",
       "21209   66       MARIA      M  BRANCA      CASADO(A)            7248857220   \n",
       "\n",
       "       cluster_id  n_records  \n",
       "620          1400          5  \n",
       "10055        1400          5  \n",
       "11250        1400          5  \n",
       "11904        1400          5  \n",
       "21209        1400          5  "
      ]
     },
     "execution_count": 29,
     "metadata": {},
     "output_type": "execute_result"
    }
   ],
   "source": [
    "all_records[all_records.cluster_id == 1400]"
   ]
  },
  {
   "cell_type": "markdown",
   "metadata": {},
   "source": [
    "This cluster appears to have one False Positive record. Ideally, record `potential_candidates__620` would have been placed in a different cluster. However, some level of error is expected when using a probabilistic matching tool and the fact that the first name matches, most of the last name matches, and the the DOB matches makes the linking of this record to the others understandable (and forgiveable!). One extra indication that this record does not belong in the cluster is the fact that the cluster contains two records from the potential-candidates dataset. We would not expect a cluster to contain two of these records, since that dataset only contains one record per person. See the end of this tutorial for a more advanced technique for prohibiting this type of unexpected behavior. "
   ]
  },
  {
   "cell_type": "markdown",
   "metadata": {},
   "source": [
    "#### Verify your expectations"
   ]
  },
  {
   "cell_type": "markdown",
   "metadata": {},
   "source": [
    "You might have a few expectations about the results, either based on what you know about Name Match or based on the parameters values you set in the config. Checking these expectations can be a nice quick way to gain confidence in your results. If these things don't look as expected, there's likely a problem with your preprocessing or config file."
   ]
  },
  {
   "cell_type": "markdown",
   "metadata": {},
   "source": [
    "For example, records that exact match on every field (or even just the most important fields like name and dob) should nearly always get clustered together. This is true for our match!"
   ]
  },
  {
   "cell_type": "code",
   "execution_count": 30,
   "metadata": {},
   "outputs": [
    {
     "name": "stdout",
     "output_type": "stream",
     "text": [
      "100.0% of \"exact matches\" are linked.\n"
     ]
    }
   ],
   "source": [
    "pct_exact_matches_linked = (all_records.groupby(['first_name', 'last_name', 'dob']).cluster_id.nunique() == 1).mean() \n",
    "print(f'{np.round(pct_exact_matches_linked * 100, 2)}% of \"exact matches\" are linked.')"
   ]
  },
  {
   "cell_type": "markdown",
   "metadata": {},
   "source": [
    "All records with the same `official_candidate_id` (the field marked in the config with `compare_type: 'UniqueID'`) should be in the same cluster. True!"
   ]
  },
  {
   "cell_type": "code",
   "execution_count": 31,
   "metadata": {},
   "outputs": [],
   "source": [
    "records_with_candidate_id = all_records[all_records.official_candidate_id.notnull()].copy()"
   ]
  },
  {
   "cell_type": "code",
   "execution_count": 32,
   "metadata": {},
   "outputs": [
    {
     "data": {
      "text/plain": [
       "True"
      ]
     },
     "execution_count": 32,
     "metadata": {},
     "output_type": "execute_result"
    }
   ],
   "source": [
    "(records_with_candidate_id.groupby('official_candidate_id').cluster_id.nunique() == 1).all()"
   ]
  },
  {
   "cell_type": "markdown",
   "metadata": {},
   "source": [
    "If you used the default value of `False` for the `allow_clusters_w_multiple_unique_ids` parameter, then each cluster should have at most one unique value of `official_candidate_id`. Again, this is true for our results!"
   ]
  },
  {
   "cell_type": "code",
   "execution_count": 33,
   "metadata": {},
   "outputs": [
    {
     "data": {
      "text/plain": [
       "True"
      ]
     },
     "execution_count": 33,
     "metadata": {},
     "output_type": "execute_result"
    }
   ],
   "source": [
    "(records_with_candidate_id.groupby('cluster_id').official_candidate_id.nunique() == 1).all()"
   ]
  },
  {
   "cell_type": "markdown",
   "metadata": {},
   "source": [
    "# Evaluating the results (for real)"
   ]
  },
  {
   "cell_type": "markdown",
   "metadata": {},
   "source": [
    "Normally you don't have the answer key, so you must rely on methods from the previous section to evaluate the quality of the match. However, since this is a toy problem and we DO have the answer key -- let's see how we did."
   ]
  },
  {
   "cell_type": "code",
   "execution_count": 34,
   "metadata": {},
   "outputs": [],
   "source": [
    "answer_key = pd.read_csv('raw_data/answer_key.csv')\n",
    "\n",
    "matched_potential_candidates = pd.merge(\n",
    "    matched_potential_candidates, \n",
    "    answer_key,\n",
    "    on=[col for col in answer_key.columns if col != 'candidate_id']\n",
    ")"
   ]
  },
  {
   "cell_type": "markdown",
   "metadata": {},
   "source": [
    "### Recall -- how many actual matches did we recover?"
   ]
  },
  {
   "cell_type": "code",
   "execution_count": 35,
   "metadata": {},
   "outputs": [],
   "source": [
    "merged = pd.merge(\n",
    "    matched_potential_candidates,\n",
    "    matched_past_candidates,     \n",
    "    on='candidate_id', \n",
    "    suffixes=['__potential', '__past']\n",
    ")"
   ]
  },
  {
   "cell_type": "code",
   "execution_count": 36,
   "metadata": {},
   "outputs": [
    {
     "name": "stdout",
     "output_type": "stream",
     "text": [
      "99.6%\n"
     ]
    }
   ],
   "source": [
    "recall = (merged.cluster_id__potential == merged.cluster_id__past).mean()\n",
    "\n",
    "print(f\"{recall.round(3) * 100}%\")"
   ]
  },
  {
   "cell_type": "markdown",
   "metadata": {},
   "source": [
    "##### Look at the false negatives"
   ]
  },
  {
   "cell_type": "code",
   "execution_count": 37,
   "metadata": {},
   "outputs": [
    {
     "data": {
      "text/html": [
       "<div>\n",
       "<style scoped>\n",
       "    .dataframe tbody tr th:only-of-type {\n",
       "        vertical-align: middle;\n",
       "    }\n",
       "\n",
       "    .dataframe tbody tr th {\n",
       "        vertical-align: top;\n",
       "    }\n",
       "\n",
       "    .dataframe thead th {\n",
       "        text-align: right;\n",
       "    }\n",
       "</style>\n",
       "<table border=\"1\" class=\"dataframe\">\n",
       "  <thead>\n",
       "    <tr style=\"text-align: right;\">\n",
       "      <th></th>\n",
       "      <th>name</th>\n",
       "      <th>dob__potential</th>\n",
       "      <th>cluster_id__potential</th>\n",
       "      <th>candidate_id</th>\n",
       "      <th>full_name</th>\n",
       "      <th>dob__past</th>\n",
       "      <th>cluster_id__past</th>\n",
       "    </tr>\n",
       "  </thead>\n",
       "  <tbody>\n",
       "    <tr>\n",
       "      <th>63</th>\n",
       "      <td>REJANE MATOS RIBEIRO</td>\n",
       "      <td>1965-02-21</td>\n",
       "      <td>1901</td>\n",
       "      <td>39899772534</td>\n",
       "      <td>REJANE DA SILVA MATOS</td>\n",
       "      <td>1965-02-21</td>\n",
       "      <td>17558</td>\n",
       "    </tr>\n",
       "    <tr>\n",
       "      <th>393</th>\n",
       "      <td>MARCOS FEITOSA SOBRAL</td>\n",
       "      <td>1981-04-15</td>\n",
       "      <td>2697</td>\n",
       "      <td>66780934291</td>\n",
       "      <td>MARCOS FEITOSA DOS REIS</td>\n",
       "      <td>1981-04-15</td>\n",
       "      <td>17504</td>\n",
       "    </tr>\n",
       "    <tr>\n",
       "      <th>662</th>\n",
       "      <td>ANA LOURINETE COSTA LOBO MONTANHER</td>\n",
       "      <td>1979-02-19</td>\n",
       "      <td>3411</td>\n",
       "      <td>54336953449</td>\n",
       "      <td>LOURINETE EURYDICE COSTA LOBO MONTANHER</td>\n",
       "      <td>1970-02-19</td>\n",
       "      <td>18322</td>\n",
       "    </tr>\n",
       "    <tr>\n",
       "      <th>830</th>\n",
       "      <td>FRANCISCO SOTERO DOS SANTOS</td>\n",
       "      <td>1991-05-24</td>\n",
       "      <td>3880</td>\n",
       "      <td>21684219272</td>\n",
       "      <td>FRANCISCO SOTERO DOS SANTOS</td>\n",
       "      <td>1968-06-10</td>\n",
       "      <td>1665</td>\n",
       "    </tr>\n",
       "    <tr>\n",
       "      <th>831</th>\n",
       "      <td>FRANCISCO SOTERO DOS SANTOS</td>\n",
       "      <td>1991-05-24</td>\n",
       "      <td>3880</td>\n",
       "      <td>21684219272</td>\n",
       "      <td>FRANCISCO SOTERO DOS SANTOS</td>\n",
       "      <td>1968-05-10</td>\n",
       "      <td>1665</td>\n",
       "    </tr>\n",
       "    <tr>\n",
       "      <th>884</th>\n",
       "      <td>SEBASTIAO LEAL DE MORAES</td>\n",
       "      <td>1968-01-20</td>\n",
       "      <td>3995</td>\n",
       "      <td>35998482204</td>\n",
       "      <td>SEBASTIAO LEAL DE MORAES</td>\n",
       "      <td>1986-05-27</td>\n",
       "      <td>18370</td>\n",
       "    </tr>\n",
       "    <tr>\n",
       "      <th>1077</th>\n",
       "      <td>ANGELICA SCHNEIDER</td>\n",
       "      <td>1967-10-14</td>\n",
       "      <td>4490</td>\n",
       "      <td>45092788020</td>\n",
       "      <td>ANGELICA SCHNEIDER KAFER</td>\n",
       "      <td>1967-10-14</td>\n",
       "      <td>18272</td>\n",
       "    </tr>\n",
       "    <tr>\n",
       "      <th>1213</th>\n",
       "      <td>FRANCISCO MARIANO VENANCIO</td>\n",
       "      <td>1972-03-28</td>\n",
       "      <td>4829</td>\n",
       "      <td>550049894</td>\n",
       "      <td>FRANCISCO MARIANO VENANCIO</td>\n",
       "      <td>1957-02-19</td>\n",
       "      <td>13800</td>\n",
       "    </tr>\n",
       "    <tr>\n",
       "      <th>1562</th>\n",
       "      <td>RICELIO LINHARES DE MARTINS</td>\n",
       "      <td>1986-01-17</td>\n",
       "      <td>5608</td>\n",
       "      <td>11034271725</td>\n",
       "      <td>RICELIO LINHARES</td>\n",
       "      <td>1986-01-17</td>\n",
       "      <td>16698</td>\n",
       "    </tr>\n",
       "    <tr>\n",
       "      <th>2442</th>\n",
       "      <td>BRUNA RAFAELA NASCIMENTO</td>\n",
       "      <td>1989-02-23</td>\n",
       "      <td>7731</td>\n",
       "      <td>8847828406</td>\n",
       "      <td>GEYMISSON BRUNO DO NASCIMENTO</td>\n",
       "      <td>1989-02-23</td>\n",
       "      <td>16651</td>\n",
       "    </tr>\n",
       "    <tr>\n",
       "      <th>3093</th>\n",
       "      <td>VANDA ESTEVAN MARIN</td>\n",
       "      <td>1966-04-25</td>\n",
       "      <td>9253</td>\n",
       "      <td>4437321839</td>\n",
       "      <td>VANDA ESTEVAN</td>\n",
       "      <td>1966-04-25</td>\n",
       "      <td>13477</td>\n",
       "    </tr>\n",
       "    <tr>\n",
       "      <th>3148</th>\n",
       "      <td>FERNANDA ISABEL DA COSTA</td>\n",
       "      <td>1988-12-14</td>\n",
       "      <td>9381</td>\n",
       "      <td>10986653764</td>\n",
       "      <td>FERNANDA IZABEL DA COSTA</td>\n",
       "      <td>1985-01-02</td>\n",
       "      <td>14394</td>\n",
       "    </tr>\n",
       "    <tr>\n",
       "      <th>3232</th>\n",
       "      <td>ANTONIA CARDOSO GOMES</td>\n",
       "      <td>1989-12-04</td>\n",
       "      <td>9557</td>\n",
       "      <td>5280945307</td>\n",
       "      <td>ANTONIA GOMES FRANCO</td>\n",
       "      <td>1989-12-04</td>\n",
       "      <td>17807</td>\n",
       "    </tr>\n",
       "    <tr>\n",
       "      <th>3532</th>\n",
       "      <td>ROSA ALVES DE OLIVEIRA</td>\n",
       "      <td>1975-02-18</td>\n",
       "      <td>10360</td>\n",
       "      <td>3749485429</td>\n",
       "      <td>ROSA ALVES DA SILVA</td>\n",
       "      <td>1975-02-18</td>\n",
       "      <td>17750</td>\n",
       "    </tr>\n",
       "    <tr>\n",
       "      <th>3649</th>\n",
       "      <td>FABIO MORAES DA SILVA</td>\n",
       "      <td>1969-02-08</td>\n",
       "      <td>10648</td>\n",
       "      <td>80987710591</td>\n",
       "      <td>FABIO MORAES DA SILVA</td>\n",
       "      <td>1979-05-26</td>\n",
       "      <td>18086</td>\n",
       "    </tr>\n",
       "    <tr>\n",
       "      <th>3682</th>\n",
       "      <td>REGINA BORGES</td>\n",
       "      <td>1955-11-18</td>\n",
       "      <td>10712</td>\n",
       "      <td>18626479840</td>\n",
       "      <td>REGINA BORGES PEREIRA</td>\n",
       "      <td>1955-11-18</td>\n",
       "      <td>19876</td>\n",
       "    </tr>\n",
       "    <tr>\n",
       "      <th>3858</th>\n",
       "      <td>ALBINO ZARDINELLO</td>\n",
       "      <td>1959-04-29</td>\n",
       "      <td>11173</td>\n",
       "      <td>36047520006</td>\n",
       "      <td>ALBINO ZARDINELLO</td>\n",
       "      <td>1961-08-20</td>\n",
       "      <td>17483</td>\n",
       "    </tr>\n",
       "    <tr>\n",
       "      <th>4022</th>\n",
       "      <td>RICARDO BORGES SCHMIDT</td>\n",
       "      <td>1984-02-13</td>\n",
       "      <td>11534</td>\n",
       "      <td>32663187810</td>\n",
       "      <td>RICARDO SOUZA BORGES JUNIOR</td>\n",
       "      <td>1984-02-13</td>\n",
       "      <td>14626</td>\n",
       "    </tr>\n",
       "  </tbody>\n",
       "</table>\n",
       "</div>"
      ],
      "text/plain": [
       "                                    name dob__potential  \\\n",
       "63                  REJANE MATOS RIBEIRO     1965-02-21   \n",
       "393                MARCOS FEITOSA SOBRAL     1981-04-15   \n",
       "662   ANA LOURINETE COSTA LOBO MONTANHER     1979-02-19   \n",
       "830          FRANCISCO SOTERO DOS SANTOS     1991-05-24   \n",
       "831          FRANCISCO SOTERO DOS SANTOS     1991-05-24   \n",
       "884             SEBASTIAO LEAL DE MORAES     1968-01-20   \n",
       "1077                  ANGELICA SCHNEIDER     1967-10-14   \n",
       "1213          FRANCISCO MARIANO VENANCIO     1972-03-28   \n",
       "1562         RICELIO LINHARES DE MARTINS     1986-01-17   \n",
       "2442            BRUNA RAFAELA NASCIMENTO     1989-02-23   \n",
       "3093                 VANDA ESTEVAN MARIN     1966-04-25   \n",
       "3148            FERNANDA ISABEL DA COSTA     1988-12-14   \n",
       "3232               ANTONIA CARDOSO GOMES     1989-12-04   \n",
       "3532              ROSA ALVES DE OLIVEIRA     1975-02-18   \n",
       "3649               FABIO MORAES DA SILVA     1969-02-08   \n",
       "3682                       REGINA BORGES     1955-11-18   \n",
       "3858                   ALBINO ZARDINELLO     1959-04-29   \n",
       "4022              RICARDO BORGES SCHMIDT     1984-02-13   \n",
       "\n",
       "      cluster_id__potential  candidate_id  \\\n",
       "63                     1901   39899772534   \n",
       "393                    2697   66780934291   \n",
       "662                    3411   54336953449   \n",
       "830                    3880   21684219272   \n",
       "831                    3880   21684219272   \n",
       "884                    3995   35998482204   \n",
       "1077                   4490   45092788020   \n",
       "1213                   4829     550049894   \n",
       "1562                   5608   11034271725   \n",
       "2442                   7731    8847828406   \n",
       "3093                   9253    4437321839   \n",
       "3148                   9381   10986653764   \n",
       "3232                   9557    5280945307   \n",
       "3532                  10360    3749485429   \n",
       "3649                  10648   80987710591   \n",
       "3682                  10712   18626479840   \n",
       "3858                  11173   36047520006   \n",
       "4022                  11534   32663187810   \n",
       "\n",
       "                                    full_name   dob__past  cluster_id__past  \n",
       "63                      REJANE DA SILVA MATOS  1965-02-21             17558  \n",
       "393                   MARCOS FEITOSA DOS REIS  1981-04-15             17504  \n",
       "662   LOURINETE EURYDICE COSTA LOBO MONTANHER  1970-02-19             18322  \n",
       "830               FRANCISCO SOTERO DOS SANTOS  1968-06-10              1665  \n",
       "831               FRANCISCO SOTERO DOS SANTOS  1968-05-10              1665  \n",
       "884                  SEBASTIAO LEAL DE MORAES  1986-05-27             18370  \n",
       "1077                 ANGELICA SCHNEIDER KAFER  1967-10-14             18272  \n",
       "1213               FRANCISCO MARIANO VENANCIO  1957-02-19             13800  \n",
       "1562                         RICELIO LINHARES  1986-01-17             16698  \n",
       "2442            GEYMISSON BRUNO DO NASCIMENTO  1989-02-23             16651  \n",
       "3093                            VANDA ESTEVAN  1966-04-25             13477  \n",
       "3148                 FERNANDA IZABEL DA COSTA  1985-01-02             14394  \n",
       "3232                     ANTONIA GOMES FRANCO  1989-12-04             17807  \n",
       "3532                      ROSA ALVES DA SILVA  1975-02-18             17750  \n",
       "3649                    FABIO MORAES DA SILVA  1979-05-26             18086  \n",
       "3682                    REGINA BORGES PEREIRA  1955-11-18             19876  \n",
       "3858                        ALBINO ZARDINELLO  1961-08-20             17483  \n",
       "4022              RICARDO SOUZA BORGES JUNIOR  1984-02-13             14626  "
      ]
     },
     "execution_count": 37,
     "metadata": {},
     "output_type": "execute_result"
    }
   ],
   "source": [
    "merged[merged.cluster_id__potential != merged.cluster_id__past].filter(regex='^name|full_name|dob|candidate_id|cluster_id')"
   ]
  },
  {
   "cell_type": "markdown",
   "metadata": {},
   "source": [
    "### Precision -- how many of the links we made were correct?"
   ]
  },
  {
   "cell_type": "code",
   "execution_count": 38,
   "metadata": {},
   "outputs": [],
   "source": [
    "merged = pd.merge(\n",
    "    matched_potential_candidates,\n",
    "    matched_past_candidates,     \n",
    "    on='cluster_id', \n",
    "    suffixes=['__potential', '__past']\n",
    ")"
   ]
  },
  {
   "cell_type": "code",
   "execution_count": 39,
   "metadata": {},
   "outputs": [
    {
     "name": "stdout",
     "output_type": "stream",
     "text": [
      "99.7%\n"
     ]
    }
   ],
   "source": [
    "precision = (merged.candidate_id__potential == merged.candidate_id__past).mean()\n",
    "\n",
    "print(f\"{precision.round(3) * 100}%\")"
   ]
  },
  {
   "cell_type": "markdown",
   "metadata": {},
   "source": [
    "##### Look at the false positives"
   ]
  },
  {
   "cell_type": "code",
   "execution_count": 40,
   "metadata": {},
   "outputs": [
    {
     "data": {
      "text/html": [
       "<div>\n",
       "<style scoped>\n",
       "    .dataframe tbody tr th:only-of-type {\n",
       "        vertical-align: middle;\n",
       "    }\n",
       "\n",
       "    .dataframe tbody tr th {\n",
       "        vertical-align: top;\n",
       "    }\n",
       "\n",
       "    .dataframe thead th {\n",
       "        text-align: right;\n",
       "    }\n",
       "</style>\n",
       "<table border=\"1\" class=\"dataframe\">\n",
       "  <thead>\n",
       "    <tr style=\"text-align: right;\">\n",
       "      <th></th>\n",
       "      <th>name</th>\n",
       "      <th>dob__potential</th>\n",
       "      <th>cluster_id</th>\n",
       "      <th>candidate_id__potential</th>\n",
       "      <th>candidate_id__past</th>\n",
       "      <th>full_name</th>\n",
       "      <th>dob__past</th>\n",
       "    </tr>\n",
       "  </thead>\n",
       "  <tbody>\n",
       "    <tr>\n",
       "      <th>61</th>\n",
       "      <td>JOSE AIRTON BRAGA DA SILVA</td>\n",
       "      <td>1957-09-18</td>\n",
       "      <td>1892</td>\n",
       "      <td>5770467215</td>\n",
       "      <td>199955808</td>\n",
       "      <td>JOSE DONIZETTI FERREIRA DA SILVA</td>\n",
       "      <td>1957-09-18</td>\n",
       "    </tr>\n",
       "    <tr>\n",
       "      <th>169</th>\n",
       "      <td>ANTONIO CARLOS RODRIGUES</td>\n",
       "      <td>1961-07-19</td>\n",
       "      <td>2169</td>\n",
       "      <td>33074194391</td>\n",
       "      <td>22609270178</td>\n",
       "      <td>ANTONIO RODRIGUES</td>\n",
       "      <td>1961-06-13</td>\n",
       "    </tr>\n",
       "    <tr>\n",
       "      <th>193</th>\n",
       "      <td>LUIZ CARLOS DA SILVA JUNIOR</td>\n",
       "      <td>1973-05-26</td>\n",
       "      <td>2219</td>\n",
       "      <td>74815989400</td>\n",
       "      <td>766567729</td>\n",
       "      <td>LUIZ CARLOS DA SILVA</td>\n",
       "      <td>1970-03-26</td>\n",
       "    </tr>\n",
       "    <tr>\n",
       "      <th>236</th>\n",
       "      <td>JOSE JULIO DE SOUSA NETO</td>\n",
       "      <td>1958-03-19</td>\n",
       "      <td>1400</td>\n",
       "      <td>32059035600</td>\n",
       "      <td>7248857220</td>\n",
       "      <td>JOSE MARIA DE SOUSA DINELY</td>\n",
       "      <td>1958-03-19</td>\n",
       "    </tr>\n",
       "    <tr>\n",
       "      <th>237</th>\n",
       "      <td>JOSE JULIO DE SOUSA NETO</td>\n",
       "      <td>1958-03-19</td>\n",
       "      <td>1400</td>\n",
       "      <td>32059035600</td>\n",
       "      <td>7248857220</td>\n",
       "      <td>JOSE MARIA DE SOUZA DINELY</td>\n",
       "      <td>1958-03-19</td>\n",
       "    </tr>\n",
       "    <tr>\n",
       "      <th>238</th>\n",
       "      <td>JOSE JULIO DE SOUSA NETO</td>\n",
       "      <td>1958-03-19</td>\n",
       "      <td>1400</td>\n",
       "      <td>32059035600</td>\n",
       "      <td>7248857220</td>\n",
       "      <td>JOSE MARIA DE SOUSA DINELLY</td>\n",
       "      <td>1958-03-19</td>\n",
       "    </tr>\n",
       "    <tr>\n",
       "      <th>299</th>\n",
       "      <td>MARCOS ANTONIO ALVES</td>\n",
       "      <td>1952-05-23</td>\n",
       "      <td>2468</td>\n",
       "      <td>590409808</td>\n",
       "      <td>25083481049</td>\n",
       "      <td>MARCO ANTONIO ALVES</td>\n",
       "      <td>1952-02-03</td>\n",
       "    </tr>\n",
       "    <tr>\n",
       "      <th>573</th>\n",
       "      <td>MARIA DA CONCEICAO DE JESUS SOUSA</td>\n",
       "      <td>1966-12-08</td>\n",
       "      <td>438</td>\n",
       "      <td>39773116549</td>\n",
       "      <td>3649700654</td>\n",
       "      <td>MARIA DA CONCEICAO OLIVEIRA</td>\n",
       "      <td>1964-12-08</td>\n",
       "    </tr>\n",
       "    <tr>\n",
       "      <th>574</th>\n",
       "      <td>MARIA DA CONCEICAO DE JESUS SOUSA</td>\n",
       "      <td>1966-12-08</td>\n",
       "      <td>438</td>\n",
       "      <td>39773116549</td>\n",
       "      <td>3649700654</td>\n",
       "      <td>MARIA DA CONCEICAO OLIVEIRA</td>\n",
       "      <td>1964-12-08</td>\n",
       "    </tr>\n",
       "    <tr>\n",
       "      <th>591</th>\n",
       "      <td>LUIZ CARLOS DE OLIVEIRA</td>\n",
       "      <td>1964-04-17</td>\n",
       "      <td>3181</td>\n",
       "      <td>61289248087</td>\n",
       "      <td>9128522400</td>\n",
       "      <td>LUIZ CARLOS DE OLIVEIRA ARAUJO</td>\n",
       "      <td>1954-04-16</td>\n",
       "    </tr>\n",
       "    <tr>\n",
       "      <th>1155</th>\n",
       "      <td>ANTONIO CARLOS DOS SANTOS</td>\n",
       "      <td>1979-06-11</td>\n",
       "      <td>4656</td>\n",
       "      <td>72372230204</td>\n",
       "      <td>7718834719</td>\n",
       "      <td>ANTONIO CARLOS DOS SANTOS NEVES</td>\n",
       "      <td>1979-02-18</td>\n",
       "    </tr>\n",
       "    <tr>\n",
       "      <th>1774</th>\n",
       "      <td>MARIA DE LOURDES FERREIRA MOUSINHO</td>\n",
       "      <td>1979-09-18</td>\n",
       "      <td>6190</td>\n",
       "      <td>60017417350</td>\n",
       "      <td>87416336368</td>\n",
       "      <td>MARIA DE LOURDES FREIRE</td>\n",
       "      <td>1979-09-22</td>\n",
       "    </tr>\n",
       "    <tr>\n",
       "      <th>1906</th>\n",
       "      <td>MARCOS ANTONIO DA SILVA</td>\n",
       "      <td>1971-12-04</td>\n",
       "      <td>6535</td>\n",
       "      <td>17251570807</td>\n",
       "      <td>46188363420</td>\n",
       "      <td>MARCOS ANTONIO DA SILVA</td>\n",
       "      <td>1965-12-04</td>\n",
       "    </tr>\n",
       "    <tr>\n",
       "      <th>2084</th>\n",
       "      <td>MARIA DE LOURDES BRITO</td>\n",
       "      <td>1960-10-21</td>\n",
       "      <td>6942</td>\n",
       "      <td>26408201504</td>\n",
       "      <td>7407909865</td>\n",
       "      <td>MARIA DE LOURDES RIBEIRO</td>\n",
       "      <td>1965-10-21</td>\n",
       "    </tr>\n",
       "    <tr>\n",
       "      <th>2886</th>\n",
       "      <td>JOSE DE ASSIS GONCALVES RAMOS</td>\n",
       "      <td>1975-10-19</td>\n",
       "      <td>8719</td>\n",
       "      <td>84969598649</td>\n",
       "      <td>69336474391</td>\n",
       "      <td>JOSE ANGELO RAMOS CARVALHO</td>\n",
       "      <td>1975-10-19</td>\n",
       "    </tr>\n",
       "  </tbody>\n",
       "</table>\n",
       "</div>"
      ],
      "text/plain": [
       "                                    name dob__potential  cluster_id  \\\n",
       "61            JOSE AIRTON BRAGA DA SILVA     1957-09-18        1892   \n",
       "169             ANTONIO CARLOS RODRIGUES     1961-07-19        2169   \n",
       "193          LUIZ CARLOS DA SILVA JUNIOR     1973-05-26        2219   \n",
       "236             JOSE JULIO DE SOUSA NETO     1958-03-19        1400   \n",
       "237             JOSE JULIO DE SOUSA NETO     1958-03-19        1400   \n",
       "238             JOSE JULIO DE SOUSA NETO     1958-03-19        1400   \n",
       "299                 MARCOS ANTONIO ALVES     1952-05-23        2468   \n",
       "573    MARIA DA CONCEICAO DE JESUS SOUSA     1966-12-08         438   \n",
       "574    MARIA DA CONCEICAO DE JESUS SOUSA     1966-12-08         438   \n",
       "591              LUIZ CARLOS DE OLIVEIRA     1964-04-17        3181   \n",
       "1155           ANTONIO CARLOS DOS SANTOS     1979-06-11        4656   \n",
       "1774  MARIA DE LOURDES FERREIRA MOUSINHO     1979-09-18        6190   \n",
       "1906             MARCOS ANTONIO DA SILVA     1971-12-04        6535   \n",
       "2084              MARIA DE LOURDES BRITO     1960-10-21        6942   \n",
       "2886       JOSE DE ASSIS GONCALVES RAMOS     1975-10-19        8719   \n",
       "\n",
       "      candidate_id__potential  candidate_id__past  \\\n",
       "61                 5770467215           199955808   \n",
       "169               33074194391         22609270178   \n",
       "193               74815989400           766567729   \n",
       "236               32059035600          7248857220   \n",
       "237               32059035600          7248857220   \n",
       "238               32059035600          7248857220   \n",
       "299                 590409808         25083481049   \n",
       "573               39773116549          3649700654   \n",
       "574               39773116549          3649700654   \n",
       "591               61289248087          9128522400   \n",
       "1155              72372230204          7718834719   \n",
       "1774              60017417350         87416336368   \n",
       "1906              17251570807         46188363420   \n",
       "2084              26408201504          7407909865   \n",
       "2886              84969598649         69336474391   \n",
       "\n",
       "                             full_name   dob__past  \n",
       "61    JOSE DONIZETTI FERREIRA DA SILVA  1957-09-18  \n",
       "169                  ANTONIO RODRIGUES  1961-06-13  \n",
       "193               LUIZ CARLOS DA SILVA  1970-03-26  \n",
       "236         JOSE MARIA DE SOUSA DINELY  1958-03-19  \n",
       "237         JOSE MARIA DE SOUZA DINELY  1958-03-19  \n",
       "238        JOSE MARIA DE SOUSA DINELLY  1958-03-19  \n",
       "299                MARCO ANTONIO ALVES  1952-02-03  \n",
       "573        MARIA DA CONCEICAO OLIVEIRA  1964-12-08  \n",
       "574       MARIA DA CONCEICAO OLIVEIRA   1964-12-08  \n",
       "591     LUIZ CARLOS DE OLIVEIRA ARAUJO  1954-04-16  \n",
       "1155   ANTONIO CARLOS DOS SANTOS NEVES  1979-02-18  \n",
       "1774           MARIA DE LOURDES FREIRE  1979-09-22  \n",
       "1906           MARCOS ANTONIO DA SILVA  1965-12-04  \n",
       "2084          MARIA DE LOURDES RIBEIRO  1965-10-21  \n",
       "2886        JOSE ANGELO RAMOS CARVALHO  1975-10-19  "
      ]
     },
     "execution_count": 40,
     "metadata": {},
     "output_type": "execute_result"
    }
   ],
   "source": [
    "merged[merged.candidate_id__potential != merged.candidate_id__past].filter(regex='^name|full_name|dob|candidate_id|cluster_id')"
   ]
  },
  {
   "cell_type": "markdown",
   "metadata": {},
   "source": [
    "### Accuracy of answer to primary research question"
   ]
  },
  {
   "cell_type": "markdown",
   "metadata": {},
   "source": [
    "#### According to the algorithm..."
   ]
  },
  {
   "cell_type": "code",
   "execution_count": 41,
   "metadata": {},
   "outputs": [
    {
     "name": "stdout",
     "output_type": "stream",
     "text": [
      "32.4% of potential candidates have run for office before\n"
     ]
    }
   ],
   "source": [
    "share_run_before__algorithm = matched_potential_candidates.cluster_id.isin(matched_past_candidates.cluster_id).mean()\n",
    "\n",
    "print(f\"{(share_run_before__algorithm * 100).round(1)}% of potential candidates have run for office before\")"
   ]
  },
  {
   "cell_type": "markdown",
   "metadata": {},
   "source": [
    "#### In reality, according to ground truth..."
   ]
  },
  {
   "cell_type": "code",
   "execution_count": 42,
   "metadata": {},
   "outputs": [
    {
     "name": "stdout",
     "output_type": "stream",
     "text": [
      "32.5% potential candidates have run for office before\n"
     ]
    }
   ],
   "source": [
    "share_run_before__ground_truth = matched_potential_candidates.candidate_id.isin(matched_past_candidates.candidate_id).mean()\n",
    "\n",
    "print(f\"{(share_run_before__ground_truth * 100).round(1)}% potential candidates have run for office before\")"
   ]
  },
  {
   "cell_type": "markdown",
   "metadata": {},
   "source": [
    "# Creating custom constraints (optional/advanced)"
   ]
  },
  {
   "cell_type": "markdown",
   "metadata": {},
   "source": [
    "Sometimes when reviewing the results of a Name Match run, you'll notice a specific type of error that occurs somewhat regularly. For example, maybe your dataset has a lot of father/son pairs with the same name (e.g. John Smith Jr and John Smtih Sr) and the records for these two different people are mistakenly getting linked together. You may wish to impose a rule that Name Match is not allowed to link two records with different non-missing suffixes (JR, SR, III, etc.). \n",
    "\n",
    "Or maybe before you even run Name Match for the first time, you have domain knowledge that tells you certain types of links should never happen. For example, if you know that a person should never have more than 3 records across the datasets being linked, wouldn't it be great if you could tell Name Match to never form clusters with more than 3 records?\n",
    "\n",
    "This is where the optional user-defined constraints come in!\n",
    "\n",
    "We have already seen a perfect example in this tutorial of an incorrect link that could have been prevented by encoding user-knowledge into a hard matching constraint. Recall that in Cell 30, we noticed a cluster with multiple records from the potential candidates dataset. We realized that since the potential candidates dataset has just one record per person, two records from this dataset should never link together -- any such links would be known errors. \n",
    "\n",
    "How many times does this type of issue occur?"
   ]
  },
  {
   "cell_type": "code",
   "execution_count": 43,
   "metadata": {},
   "outputs": [
    {
     "data": {
      "text/plain": [
       "1    10568\n",
       "2       10\n",
       "dtype: int64"
      ]
     },
     "execution_count": 43,
     "metadata": {},
     "output_type": "execute_result"
    }
   ],
   "source": [
    "matched_potential_candidates.groupby('cluster_id').size().value_counts()"
   ]
  },
  {
   "cell_type": "markdown",
   "metadata": {},
   "source": [
    "There are a few clusters that contain 2 different potential candidate records. Therefore, we know for sure that these clusters have an error. \n",
    "\n",
    "Let's see how we could have used our knowledge of the underlying data to prohibit these erroneous links from the beginning. "
   ]
  },
  {
   "cell_type": "markdown",
   "metadata": {},
   "source": [
    "### Constraint functions"
   ]
  },
  {
   "cell_type": "markdown",
   "metadata": {},
   "source": [
    "Name Match can takes as input two constraint functions, which by default return True: `is_valid_link` and `is_valid_cluster`.\n",
    "\n",
    "The logic in the `is_valid_link` function answers the question \"would a link between these two records be valid?\" The logic in the  `is_valid_cluster` function answers the question \"if a link was made that generated this cluster, would this cluster be valid?\"\n",
    "\n",
    "For every link the algorithm considers making, these two functions are run. If either were to return False, the link would not be made."
   ]
  },
  {
   "cell_type": "markdown",
   "metadata": {},
   "source": [
    "### Our use case"
   ]
  },
  {
   "cell_type": "markdown",
   "metadata": {},
   "source": [
    "As the user, you can alter these functions however you want. Let's see how we would do so to impose the following constraint.\n",
    "\n",
    "**Constraint:** Records from the `potential_candidates` dataset cannot link to other records from the `potential_candidates` dataset."
   ]
  },
  {
   "cell_type": "code",
   "execution_count": 44,
   "metadata": {},
   "outputs": [],
   "source": [
    "def is_valid_link(predicted_links_df):\n",
    "\n",
    "    # To start, all potential links are considered valid\n",
    "    predicted_links_df['valid'] = True\n",
    "\n",
    "    # If both records come from the dataset `potential_candidates`, \n",
    "    # the link is invalid\n",
    "    predicted_links_df.loc[\n",
    "        (predicted_links_df.dataset_1 == 'potential_candidates') & (predicted_links_df.dataset_2 == 'potential_candidates'), \n",
    "        'valid'] = False\n",
    "    \n",
    "    return predicted_links_df['valid']"
   ]
  },
  {
   "cell_type": "code",
   "execution_count": 45,
   "metadata": {},
   "outputs": [],
   "source": [
    "def is_valid_cluster(cluster):\n",
    "    \n",
    "    # If more than one record in the cluster that results from a link are from \n",
    "    # the `potential_candidates` dataset, the link is invalid.\n",
    "    if (cluster['dataset'] == 'potential_candidates').sum() > 1:\n",
    "        return False\n",
    "    \n",
    "    return True"
   ]
  },
  {
   "cell_type": "markdown",
   "metadata": {},
   "source": [
    "Notice how we're accessing a field called \"dataset\" -- this is a field that is created automatically by Name Match as the input datasets are loaded. Its values are the reference names assigned to each input data file in the config. The other fields that could be accessed in the constraint functions are the variables specifically defined in the config (e.g. dob, gender)."
   ]
  },
  {
   "cell_type": "markdown",
   "metadata": {},
   "source": [
    "To impose these constraints, this is what the call to Name Match would look like: "
   ]
  },
  {
   "cell_type": "code",
   "execution_count": null,
   "metadata": {},
   "outputs": [],
   "source": [
    "from namematch.cluster import Constraints\n",
    "\n",
    "constraints = Constraints()\n",
    "constraints.is_valid_link = is_valid_link\n",
    "constraints.is_valid_cluster = is_valid_cluster\n",
    "\n",
    "nm = NameMatcher(\n",
    "    config=config_dict, \n",
    "    log_file='output_temp/name_match.log', \n",
    "    logging_params_file='namematch/utils/logging_config.yaml', \n",
    "    constraints=constraints\n",
    ")"
   ]
  }
 ],
 "metadata": {
  "hide_input": false,
  "kernelspec": {
   "display_name": "namematch",
   "language": "python",
   "name": "namematch
  },
  "language_info": {
   "codemirror_mode": {
    "name": "ipython",
    "version": 3
   },
   "file_extension": ".py",
   "mimetype": "text/x-python",
   "name": "python",
   "nbconvert_exporter": "python",
   "pygments_lexer": "ipython3",
   "version": "3.8.12"
  },
  "toc": {
   "base_numbering": 1,
   "nav_menu": {},
   "number_sections": false,
   "sideBar": true,
   "skip_h1_title": false,
   "title_cell": "Table of Contents",
   "title_sidebar": "Contents",
   "toc_cell": true,
   "toc_position": {},
   "toc_section_display": true,
   "toc_window_display": false
  }
 },
 "nbformat": 4,
 "nbformat_minor": 4
}
